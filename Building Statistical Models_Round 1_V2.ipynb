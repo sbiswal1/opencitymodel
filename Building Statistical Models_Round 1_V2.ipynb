{
 "cells": [
  {
   "cell_type": "markdown",
   "metadata": {},
   "source": [
    "#### Round 1 - Success = IPO vs Rest"
   ]
  },
  {
   "cell_type": "code",
   "execution_count": 1,
   "metadata": {},
   "outputs": [],
   "source": [
    "#Importing required libraries\n",
    "import os\n",
    "import pandas as pd\n",
    "import numpy as np\n",
    "from imblearn.over_sampling import SMOTE\n",
    "from sklearn.model_selection import train_test_split\n",
    "import matplotlib.pyplot as plt\n",
    "import seaborn as sns\n",
    "import time\n",
    "import warnings\n",
    "import random\n",
    "warnings.filterwarnings(\"ignore\")\n",
    "\n",
    "from sklearn.linear_model import LogisticRegression\n",
    "from sklearn.ensemble import RandomForestClassifier\n",
    "\n",
    "from sklearn.model_selection import train_test_split, cross_val_score\n",
    "from sklearn.metrics import accuracy_score, classification_report, precision_score, recall_score \n",
    "from sklearn.metrics import confusion_matrix, precision_recall_curve, roc_curve, auc, log_loss\n",
    "\n",
    "pd.set_option('display.max_rows', 500)\n",
    "pd.set_option('display.max_columns', 500)\n",
    "pd.set_option('display.width', 1000)"
   ]
  },
  {
   "cell_type": "code",
   "execution_count": 2,
   "metadata": {
    "scrolled": true
   },
   "outputs": [
    {
     "name": "stdout",
     "output_type": "stream",
     "text": [
      "(1932, 29)\n"
     ]
    },
    {
     "data": {
      "text/html": [
       "<div>\n",
       "<style scoped>\n",
       "    .dataframe tbody tr th:only-of-type {\n",
       "        vertical-align: middle;\n",
       "    }\n",
       "\n",
       "    .dataframe tbody tr th {\n",
       "        vertical-align: top;\n",
       "    }\n",
       "\n",
       "    .dataframe thead th {\n",
       "        text-align: right;\n",
       "    }\n",
       "</style>\n",
       "<table border=\"1\" class=\"dataframe\">\n",
       "  <thead>\n",
       "    <tr style=\"text-align: right;\">\n",
       "      <th></th>\n",
       "      <th>d_success</th>\n",
       "      <th>Total Number of Rounds</th>\n",
       "      <th>Total Amount Raised ($M)</th>\n",
       "      <th>Unique Amount Raised ($M)</th>\n",
       "      <th>Meta Category</th>\n",
       "      <th>Highest Amount Raised ($M)</th>\n",
       "      <th>Years in operation</th>\n",
       "      <th>Angel_round</th>\n",
       "      <th>Convertible Note_round</th>\n",
       "      <th>Continent</th>\n",
       "      <th>Largest Funding Round</th>\n",
       "      <th>Total Number of Investors</th>\n",
       "      <th>Last Round</th>\n",
       "      <th>Corporate Round_round</th>\n",
       "      <th>Debt Financing_round</th>\n",
       "      <th>Equity Crowdfunding_round</th>\n",
       "      <th>Grant_round</th>\n",
       "      <th>Initial Coin Offering_round</th>\n",
       "      <th>Late Stage_round</th>\n",
       "      <th>Non Equity Assistance_round</th>\n",
       "      <th>Pre Seed_round</th>\n",
       "      <th>Private Equity_round</th>\n",
       "      <th>Product Crowdfunding_round</th>\n",
       "      <th>Secondary Market_round</th>\n",
       "      <th>Seed_round</th>\n",
       "      <th>Series A_round</th>\n",
       "      <th>Series B_round</th>\n",
       "      <th>Series C_round</th>\n",
       "      <th>Venture_round</th>\n",
       "    </tr>\n",
       "  </thead>\n",
       "  <tbody>\n",
       "    <tr>\n",
       "      <th>0</th>\n",
       "      <td>0</td>\n",
       "      <td>2</td>\n",
       "      <td>267.152423</td>\n",
       "      <td>267.152423</td>\n",
       "      <td>Deposits and Lending</td>\n",
       "      <td>159.356632</td>\n",
       "      <td>5</td>\n",
       "      <td>0</td>\n",
       "      <td>0</td>\n",
       "      <td>Asia</td>\n",
       "      <td>Series C</td>\n",
       "      <td>6</td>\n",
       "      <td>Series C</td>\n",
       "      <td>0</td>\n",
       "      <td>0</td>\n",
       "      <td>0</td>\n",
       "      <td>0</td>\n",
       "      <td>0</td>\n",
       "      <td>0</td>\n",
       "      <td>0</td>\n",
       "      <td>0</td>\n",
       "      <td>0</td>\n",
       "      <td>0</td>\n",
       "      <td>0</td>\n",
       "      <td>0</td>\n",
       "      <td>0</td>\n",
       "      <td>1</td>\n",
       "      <td>1</td>\n",
       "      <td>0</td>\n",
       "    </tr>\n",
       "    <tr>\n",
       "      <th>1</th>\n",
       "      <td>0</td>\n",
       "      <td>2</td>\n",
       "      <td>158.731418</td>\n",
       "      <td>158.731418</td>\n",
       "      <td>Deposits and Lending</td>\n",
       "      <td>158.731418</td>\n",
       "      <td>15</td>\n",
       "      <td>0</td>\n",
       "      <td>0</td>\n",
       "      <td>Europe</td>\n",
       "      <td>Debt Financing</td>\n",
       "      <td>2</td>\n",
       "      <td>Debt</td>\n",
       "      <td>0</td>\n",
       "      <td>1</td>\n",
       "      <td>0</td>\n",
       "      <td>0</td>\n",
       "      <td>0</td>\n",
       "      <td>0</td>\n",
       "      <td>0</td>\n",
       "      <td>0</td>\n",
       "      <td>1</td>\n",
       "      <td>0</td>\n",
       "      <td>0</td>\n",
       "      <td>0</td>\n",
       "      <td>0</td>\n",
       "      <td>0</td>\n",
       "      <td>0</td>\n",
       "      <td>0</td>\n",
       "    </tr>\n",
       "  </tbody>\n",
       "</table>\n",
       "</div>"
      ],
      "text/plain": [
       "   d_success  Total Number of Rounds  Total Amount Raised ($M)  Unique Amount Raised ($M)         Meta Category  Highest Amount Raised ($M)  Years in operation  Angel_round  Convertible Note_round Continent Largest Funding Round  Total Number of Investors Last Round  Corporate Round_round  Debt Financing_round  Equity Crowdfunding_round  Grant_round  Initial Coin Offering_round  Late Stage_round  Non Equity Assistance_round  Pre Seed_round  Private Equity_round  Product Crowdfunding_round  Secondary Market_round  Seed_round  Series A_round  Series B_round  Series C_round  Venture_round\n",
       "0          0                       2                267.152423                 267.152423  Deposits and Lending                  159.356632                   5            0                       0      Asia              Series C                          6   Series C                      0                     0                          0            0                            0                 0                            0               0                     0                           0                       0           0               0               1               1              0\n",
       "1          0                       2                158.731418                 158.731418  Deposits and Lending                  158.731418                  15            0                       0    Europe        Debt Financing                          2       Debt                      0                     1                          0            0                            0                 0                            0               0                     1                           0                       0           0               0               0               0              0"
      ]
     },
     "execution_count": 2,
     "metadata": {},
     "output_type": "execute_result"
    }
   ],
   "source": [
    "#Importing data\n",
    "data = pd.read_excel('mydata_model_round1_V2.xlsx')\n",
    "print(data.shape)\n",
    "data.head(2)"
   ]
  },
  {
   "cell_type": "code",
   "execution_count": null,
   "metadata": {},
   "outputs": [],
   "source": [
    "data.isnull().sum()"
   ]
  },
  {
   "cell_type": "markdown",
   "metadata": {},
   "source": [
    "##### Imputing missing values"
   ]
  },
  {
   "cell_type": "code",
   "execution_count": 3,
   "metadata": {
    "scrolled": true
   },
   "outputs": [],
   "source": [
    "#Imputing the missing value in the variable 'Last Round'\n",
    "data['Last Round'].fillna('Data NA', inplace=True)"
   ]
  },
  {
   "cell_type": "code",
   "execution_count": null,
   "metadata": {},
   "outputs": [],
   "source": [
    "#Replacing the -ve values with 0 based in assumptions that the company got the investment on the founding day\n",
    "# data['Angel_days'] = np.where(data['Angel_days']<0, 0, data['Angel_days'])\n",
    "# data['Convertible Note_days'] = np.where(data['Convertible Note_days']<0, 0, data['Convertible Note_days'])\n",
    "# data['Corporate Round_days'] = np.where(data['Corporate Round_days']<0, 0, data['Corporate Round_days'])\n",
    "# data['Debt Financing_days'] = np.where(data['Debt Financing_days']<0, 0, data['Debt Financing_days'])\n",
    "# data['Equity Crowdfunding_days'] = np.where(data['Equity Crowdfunding_days']<0, 0, data['Equity Crowdfunding_days'])\n",
    "# data['Grant_days'] = np.where(data['Grant_days']<0, 0, data['Grant_days'])\n",
    "# data['Initial Coin Offering_days'] = np.where(data['Initial Coin Offering_days']<0, 0, data['Initial Coin Offering_days'])\n",
    "# data['Late Stage_days'] = np.where(data['Late Stage_days']<0, 0, data['Late Stage_days'])\n",
    "# data['Non Equity Assistance_days'] = np.where(data['Non Equity Assistance_days']<0, 0, data['Non Equity Assistance_days'])\n",
    "# data['Post Ipo Debt_days'] = np.where(data['Post Ipo Debt_days']<0, 0, data['Post Ipo Debt_days'])\n",
    "# data['Post Ipo Equity_days'] = np.where(data['Post Ipo Equity_days']<0, 0, data['Post Ipo Equity_days'])\n",
    "# data['Pre Seed_days'] = np.where(data['Pre Seed_days']<0, 0, data['Pre Seed_days'])\n",
    "# data['Private Equity_days'] = np.where(data['Private Equity_days']<0, 0, data['Private Equity_days'])\n",
    "# data['Product Crowdfunding_days'] = np.where(data['Product Crowdfunding_days']<0, 0, data['Product Crowdfunding_days'])\n",
    "# data['Secondary Market_days'] = np.where(data['Secondary Market_days']<0, 0, data['Secondary Market_days'])\n",
    "# data['Seed_days'] = np.where(data['Seed_days']<0, 0, data['Seed_days'])\n",
    "# data['Series A_days'] = np.where(data['Series A_days']<0, 0, data['Series A_days'])\n",
    "# data['Series B_days'] = np.where(data['Series B_days']<0, 0, data['Series B_days'])\n",
    "# data['Series C_days'] = np.where(data['Series C_days']<0, 0, data['Series C_days'])\n",
    "# data['Undisclosed_days'] = np.where(data['Undisclosed_days']<0, 0, data['Undisclosed_days'])\n",
    "# data['Venture_days'] = np.where(data['Venture_days']<0, 0, data['Venture_days'])"
   ]
  },
  {
   "cell_type": "code",
   "execution_count": null,
   "metadata": {},
   "outputs": [],
   "source": [
    "#Imputing the missing value in the rounds_days variable as -1 (Not applicable)\n",
    "#data.fillna(-1, inplace=True)\n",
    "# data.fillna(-1, inplace=True)"
   ]
  },
  {
   "cell_type": "code",
   "execution_count": null,
   "metadata": {},
   "outputs": [],
   "source": [
    "data.isnull().sum()"
   ]
  },
  {
   "cell_type": "code",
   "execution_count": 4,
   "metadata": {},
   "outputs": [
    {
     "name": "stdout",
     "output_type": "stream",
     "text": [
      "0    1895\n",
      "1      37\n",
      "Name: d_success, dtype: int64\n",
      "\n",
      "\n",
      "% of success 1.92%\n",
      "% of failure 98.08%\n"
     ]
    }
   ],
   "source": [
    "print(data['d_success'].value_counts())\n",
    "print(\"\\n\")\n",
    "\n",
    "suc=len(data[data['d_success']==1])\n",
    "fail=len(data[data['d_success']==0])\n",
    "tot=suc+fail\n",
    "\n",
    "print(\"% of success {}%\".format(round(suc/tot*100,2)))\n",
    "print(\"% of failure {}%\".format(round(fail/tot*100,2)))"
   ]
  },
  {
   "cell_type": "markdown",
   "metadata": {},
   "source": [
    "We know that not getting success is more common than getting the success.  Hence, in this case we will predict that all the companies are unsuccessful. By doing this, we would get 1867/1932 observations correct and an accuracy of 96.64%. So our baseline model has an accuracy of 96.64%.This is what we’ll try to beat with our logistic regression model."
   ]
  },
  {
   "cell_type": "code",
   "execution_count": null,
   "metadata": {},
   "outputs": [],
   "source": [
    "data.dtypes"
   ]
  },
  {
   "cell_type": "markdown",
   "metadata": {},
   "source": [
    "#### Create dummy variables"
   ]
  },
  {
   "cell_type": "code",
   "execution_count": 5,
   "metadata": {},
   "outputs": [
    {
     "data": {
      "text/plain": [
       "['Meta Category', 'Continent', 'Largest Funding Round', 'Last Round']"
      ]
     },
     "execution_count": 5,
     "metadata": {},
     "output_type": "execute_result"
    }
   ],
   "source": [
    "cat_vars = data.select_dtypes(include=['object']).columns.tolist()\n",
    "#cat_vars.remove('Company')\n",
    "cat_vars"
   ]
  },
  {
   "cell_type": "code",
   "execution_count": 6,
   "metadata": {},
   "outputs": [],
   "source": [
    "#Creating dummies for categorical variables\n",
    "for var in cat_vars:\n",
    "    cat_list='var'+'_'+var\n",
    "    cat_list = pd.get_dummies(data[var], prefix=var)\n",
    "    data1=data.join(cat_list)\n",
    "    data=data1"
   ]
  },
  {
   "cell_type": "code",
   "execution_count": 7,
   "metadata": {},
   "outputs": [
    {
     "name": "stdout",
     "output_type": "stream",
     "text": [
      "(1932, 78)\n"
     ]
    },
    {
     "data": {
      "text/html": [
       "<div>\n",
       "<style scoped>\n",
       "    .dataframe tbody tr th:only-of-type {\n",
       "        vertical-align: middle;\n",
       "    }\n",
       "\n",
       "    .dataframe tbody tr th {\n",
       "        vertical-align: top;\n",
       "    }\n",
       "\n",
       "    .dataframe thead th {\n",
       "        text-align: right;\n",
       "    }\n",
       "</style>\n",
       "<table border=\"1\" class=\"dataframe\">\n",
       "  <thead>\n",
       "    <tr style=\"text-align: right;\">\n",
       "      <th></th>\n",
       "      <th>d_success</th>\n",
       "      <th>Total Number of Rounds</th>\n",
       "      <th>Total Amount Raised ($M)</th>\n",
       "      <th>Unique Amount Raised ($M)</th>\n",
       "      <th>Meta Category</th>\n",
       "      <th>Highest Amount Raised ($M)</th>\n",
       "      <th>Years in operation</th>\n",
       "      <th>Angel_round</th>\n",
       "      <th>Convertible Note_round</th>\n",
       "      <th>Continent</th>\n",
       "      <th>Largest Funding Round</th>\n",
       "      <th>Total Number of Investors</th>\n",
       "      <th>Last Round</th>\n",
       "      <th>Corporate Round_round</th>\n",
       "      <th>Debt Financing_round</th>\n",
       "      <th>Equity Crowdfunding_round</th>\n",
       "      <th>Grant_round</th>\n",
       "      <th>Initial Coin Offering_round</th>\n",
       "      <th>Late Stage_round</th>\n",
       "      <th>Non Equity Assistance_round</th>\n",
       "      <th>Pre Seed_round</th>\n",
       "      <th>Private Equity_round</th>\n",
       "      <th>Product Crowdfunding_round</th>\n",
       "      <th>Secondary Market_round</th>\n",
       "      <th>Seed_round</th>\n",
       "      <th>Series A_round</th>\n",
       "      <th>Series B_round</th>\n",
       "      <th>Series C_round</th>\n",
       "      <th>Venture_round</th>\n",
       "      <th>Meta Category_Banking Operations</th>\n",
       "      <th>Meta Category_Capital Raising</th>\n",
       "      <th>Meta Category_Deposits and Lending</th>\n",
       "      <th>Meta Category_Financial Management</th>\n",
       "      <th>Meta Category_Payments</th>\n",
       "      <th>Continent_Africa</th>\n",
       "      <th>Continent_Asia</th>\n",
       "      <th>Continent_Australia/New Zealand</th>\n",
       "      <th>Continent_Data unavailable</th>\n",
       "      <th>Continent_Europe</th>\n",
       "      <th>Continent_North America</th>\n",
       "      <th>Continent_South America</th>\n",
       "      <th>Largest Funding Round_Angel</th>\n",
       "      <th>Largest Funding Round_Convertible Note</th>\n",
       "      <th>Largest Funding Round_Corporate Round</th>\n",
       "      <th>Largest Funding Round_Debt Financing</th>\n",
       "      <th>Largest Funding Round_Equity Crowdfunding</th>\n",
       "      <th>Largest Funding Round_Grant</th>\n",
       "      <th>Largest Funding Round_Initial Coin Offering</th>\n",
       "      <th>Largest Funding Round_Late Stage</th>\n",
       "      <th>Largest Funding Round_Non Equity Assistance</th>\n",
       "      <th>Largest Funding Round_Post Ipo Debt</th>\n",
       "      <th>Largest Funding Round_Post Ipo Equity</th>\n",
       "      <th>Largest Funding Round_Pre Seed</th>\n",
       "      <th>Largest Funding Round_Private Equity</th>\n",
       "      <th>Largest Funding Round_Product Crowdfunding</th>\n",
       "      <th>Largest Funding Round_Secondary Market</th>\n",
       "      <th>Largest Funding Round_Seed</th>\n",
       "      <th>Largest Funding Round_Series A</th>\n",
       "      <th>Largest Funding Round_Series B</th>\n",
       "      <th>Largest Funding Round_Series C</th>\n",
       "      <th>Largest Funding Round_Undisclosed</th>\n",
       "      <th>Largest Funding Round_Venture</th>\n",
       "      <th>Last Round_Angel</th>\n",
       "      <th>Last Round_Data NA</th>\n",
       "      <th>Last Round_Debt</th>\n",
       "      <th>Last Round_Grant</th>\n",
       "      <th>Last Round_PE</th>\n",
       "      <th>Last Round_Post IPO Equity</th>\n",
       "      <th>Last Round_Secondary</th>\n",
       "      <th>Last Round_Seed</th>\n",
       "      <th>Last Round_Series A</th>\n",
       "      <th>Last Round_Series B</th>\n",
       "      <th>Last Round_Series C</th>\n",
       "      <th>Last Round_Series D</th>\n",
       "      <th>Last Round_Series E</th>\n",
       "      <th>Last Round_Series F</th>\n",
       "      <th>Last Round_Series G</th>\n",
       "      <th>Last Round_Venture</th>\n",
       "    </tr>\n",
       "  </thead>\n",
       "  <tbody>\n",
       "    <tr>\n",
       "      <th>0</th>\n",
       "      <td>0</td>\n",
       "      <td>2</td>\n",
       "      <td>267.152423</td>\n",
       "      <td>267.152423</td>\n",
       "      <td>Deposits and Lending</td>\n",
       "      <td>159.356632</td>\n",
       "      <td>5</td>\n",
       "      <td>0</td>\n",
       "      <td>0</td>\n",
       "      <td>Asia</td>\n",
       "      <td>Series C</td>\n",
       "      <td>6</td>\n",
       "      <td>Series C</td>\n",
       "      <td>0</td>\n",
       "      <td>0</td>\n",
       "      <td>0</td>\n",
       "      <td>0</td>\n",
       "      <td>0</td>\n",
       "      <td>0</td>\n",
       "      <td>0</td>\n",
       "      <td>0</td>\n",
       "      <td>0</td>\n",
       "      <td>0</td>\n",
       "      <td>0</td>\n",
       "      <td>0</td>\n",
       "      <td>0</td>\n",
       "      <td>1</td>\n",
       "      <td>1</td>\n",
       "      <td>0</td>\n",
       "      <td>0</td>\n",
       "      <td>0</td>\n",
       "      <td>1</td>\n",
       "      <td>0</td>\n",
       "      <td>0</td>\n",
       "      <td>0</td>\n",
       "      <td>1</td>\n",
       "      <td>0</td>\n",
       "      <td>0</td>\n",
       "      <td>0</td>\n",
       "      <td>0</td>\n",
       "      <td>0</td>\n",
       "      <td>0</td>\n",
       "      <td>0</td>\n",
       "      <td>0</td>\n",
       "      <td>0</td>\n",
       "      <td>0</td>\n",
       "      <td>0</td>\n",
       "      <td>0</td>\n",
       "      <td>0</td>\n",
       "      <td>0</td>\n",
       "      <td>0</td>\n",
       "      <td>0</td>\n",
       "      <td>0</td>\n",
       "      <td>0</td>\n",
       "      <td>0</td>\n",
       "      <td>0</td>\n",
       "      <td>0</td>\n",
       "      <td>0</td>\n",
       "      <td>0</td>\n",
       "      <td>1</td>\n",
       "      <td>0</td>\n",
       "      <td>0</td>\n",
       "      <td>0</td>\n",
       "      <td>0</td>\n",
       "      <td>0</td>\n",
       "      <td>0</td>\n",
       "      <td>0</td>\n",
       "      <td>0</td>\n",
       "      <td>0</td>\n",
       "      <td>0</td>\n",
       "      <td>0</td>\n",
       "      <td>0</td>\n",
       "      <td>1</td>\n",
       "      <td>0</td>\n",
       "      <td>0</td>\n",
       "      <td>0</td>\n",
       "      <td>0</td>\n",
       "      <td>0</td>\n",
       "    </tr>\n",
       "    <tr>\n",
       "      <th>1</th>\n",
       "      <td>0</td>\n",
       "      <td>2</td>\n",
       "      <td>158.731418</td>\n",
       "      <td>158.731418</td>\n",
       "      <td>Deposits and Lending</td>\n",
       "      <td>158.731418</td>\n",
       "      <td>15</td>\n",
       "      <td>0</td>\n",
       "      <td>0</td>\n",
       "      <td>Europe</td>\n",
       "      <td>Debt Financing</td>\n",
       "      <td>2</td>\n",
       "      <td>Debt</td>\n",
       "      <td>0</td>\n",
       "      <td>1</td>\n",
       "      <td>0</td>\n",
       "      <td>0</td>\n",
       "      <td>0</td>\n",
       "      <td>0</td>\n",
       "      <td>0</td>\n",
       "      <td>0</td>\n",
       "      <td>1</td>\n",
       "      <td>0</td>\n",
       "      <td>0</td>\n",
       "      <td>0</td>\n",
       "      <td>0</td>\n",
       "      <td>0</td>\n",
       "      <td>0</td>\n",
       "      <td>0</td>\n",
       "      <td>0</td>\n",
       "      <td>0</td>\n",
       "      <td>1</td>\n",
       "      <td>0</td>\n",
       "      <td>0</td>\n",
       "      <td>0</td>\n",
       "      <td>0</td>\n",
       "      <td>0</td>\n",
       "      <td>0</td>\n",
       "      <td>1</td>\n",
       "      <td>0</td>\n",
       "      <td>0</td>\n",
       "      <td>0</td>\n",
       "      <td>0</td>\n",
       "      <td>0</td>\n",
       "      <td>1</td>\n",
       "      <td>0</td>\n",
       "      <td>0</td>\n",
       "      <td>0</td>\n",
       "      <td>0</td>\n",
       "      <td>0</td>\n",
       "      <td>0</td>\n",
       "      <td>0</td>\n",
       "      <td>0</td>\n",
       "      <td>0</td>\n",
       "      <td>0</td>\n",
       "      <td>0</td>\n",
       "      <td>0</td>\n",
       "      <td>0</td>\n",
       "      <td>0</td>\n",
       "      <td>0</td>\n",
       "      <td>0</td>\n",
       "      <td>0</td>\n",
       "      <td>0</td>\n",
       "      <td>0</td>\n",
       "      <td>1</td>\n",
       "      <td>0</td>\n",
       "      <td>0</td>\n",
       "      <td>0</td>\n",
       "      <td>0</td>\n",
       "      <td>0</td>\n",
       "      <td>0</td>\n",
       "      <td>0</td>\n",
       "      <td>0</td>\n",
       "      <td>0</td>\n",
       "      <td>0</td>\n",
       "      <td>0</td>\n",
       "      <td>0</td>\n",
       "      <td>0</td>\n",
       "    </tr>\n",
       "    <tr>\n",
       "      <th>2</th>\n",
       "      <td>0</td>\n",
       "      <td>1</td>\n",
       "      <td>0.354439</td>\n",
       "      <td>0.354439</td>\n",
       "      <td>Capital Raising</td>\n",
       "      <td>0.354439</td>\n",
       "      <td>4</td>\n",
       "      <td>0</td>\n",
       "      <td>0</td>\n",
       "      <td>Europe</td>\n",
       "      <td>Seed</td>\n",
       "      <td>1</td>\n",
       "      <td>Seed</td>\n",
       "      <td>0</td>\n",
       "      <td>0</td>\n",
       "      <td>0</td>\n",
       "      <td>0</td>\n",
       "      <td>0</td>\n",
       "      <td>0</td>\n",
       "      <td>0</td>\n",
       "      <td>0</td>\n",
       "      <td>0</td>\n",
       "      <td>0</td>\n",
       "      <td>0</td>\n",
       "      <td>1</td>\n",
       "      <td>0</td>\n",
       "      <td>0</td>\n",
       "      <td>0</td>\n",
       "      <td>0</td>\n",
       "      <td>0</td>\n",
       "      <td>1</td>\n",
       "      <td>0</td>\n",
       "      <td>0</td>\n",
       "      <td>0</td>\n",
       "      <td>0</td>\n",
       "      <td>0</td>\n",
       "      <td>0</td>\n",
       "      <td>0</td>\n",
       "      <td>1</td>\n",
       "      <td>0</td>\n",
       "      <td>0</td>\n",
       "      <td>0</td>\n",
       "      <td>0</td>\n",
       "      <td>0</td>\n",
       "      <td>0</td>\n",
       "      <td>0</td>\n",
       "      <td>0</td>\n",
       "      <td>0</td>\n",
       "      <td>0</td>\n",
       "      <td>0</td>\n",
       "      <td>0</td>\n",
       "      <td>0</td>\n",
       "      <td>0</td>\n",
       "      <td>0</td>\n",
       "      <td>0</td>\n",
       "      <td>0</td>\n",
       "      <td>1</td>\n",
       "      <td>0</td>\n",
       "      <td>0</td>\n",
       "      <td>0</td>\n",
       "      <td>0</td>\n",
       "      <td>0</td>\n",
       "      <td>0</td>\n",
       "      <td>0</td>\n",
       "      <td>0</td>\n",
       "      <td>0</td>\n",
       "      <td>0</td>\n",
       "      <td>0</td>\n",
       "      <td>0</td>\n",
       "      <td>1</td>\n",
       "      <td>0</td>\n",
       "      <td>0</td>\n",
       "      <td>0</td>\n",
       "      <td>0</td>\n",
       "      <td>0</td>\n",
       "      <td>0</td>\n",
       "      <td>0</td>\n",
       "      <td>0</td>\n",
       "    </tr>\n",
       "    <tr>\n",
       "      <th>3</th>\n",
       "      <td>0</td>\n",
       "      <td>1</td>\n",
       "      <td>0.000000</td>\n",
       "      <td>0.000000</td>\n",
       "      <td>Financial Management</td>\n",
       "      <td>0.000000</td>\n",
       "      <td>7</td>\n",
       "      <td>0</td>\n",
       "      <td>0</td>\n",
       "      <td>Africa</td>\n",
       "      <td>Undisclosed</td>\n",
       "      <td>0</td>\n",
       "      <td>Data NA</td>\n",
       "      <td>0</td>\n",
       "      <td>0</td>\n",
       "      <td>0</td>\n",
       "      <td>0</td>\n",
       "      <td>0</td>\n",
       "      <td>0</td>\n",
       "      <td>0</td>\n",
       "      <td>0</td>\n",
       "      <td>0</td>\n",
       "      <td>0</td>\n",
       "      <td>0</td>\n",
       "      <td>0</td>\n",
       "      <td>0</td>\n",
       "      <td>0</td>\n",
       "      <td>0</td>\n",
       "      <td>0</td>\n",
       "      <td>0</td>\n",
       "      <td>0</td>\n",
       "      <td>0</td>\n",
       "      <td>1</td>\n",
       "      <td>0</td>\n",
       "      <td>1</td>\n",
       "      <td>0</td>\n",
       "      <td>0</td>\n",
       "      <td>0</td>\n",
       "      <td>0</td>\n",
       "      <td>0</td>\n",
       "      <td>0</td>\n",
       "      <td>0</td>\n",
       "      <td>0</td>\n",
       "      <td>0</td>\n",
       "      <td>0</td>\n",
       "      <td>0</td>\n",
       "      <td>0</td>\n",
       "      <td>0</td>\n",
       "      <td>0</td>\n",
       "      <td>0</td>\n",
       "      <td>0</td>\n",
       "      <td>0</td>\n",
       "      <td>0</td>\n",
       "      <td>0</td>\n",
       "      <td>0</td>\n",
       "      <td>0</td>\n",
       "      <td>0</td>\n",
       "      <td>0</td>\n",
       "      <td>0</td>\n",
       "      <td>0</td>\n",
       "      <td>1</td>\n",
       "      <td>0</td>\n",
       "      <td>0</td>\n",
       "      <td>1</td>\n",
       "      <td>0</td>\n",
       "      <td>0</td>\n",
       "      <td>0</td>\n",
       "      <td>0</td>\n",
       "      <td>0</td>\n",
       "      <td>0</td>\n",
       "      <td>0</td>\n",
       "      <td>0</td>\n",
       "      <td>0</td>\n",
       "      <td>0</td>\n",
       "      <td>0</td>\n",
       "      <td>0</td>\n",
       "      <td>0</td>\n",
       "      <td>0</td>\n",
       "    </tr>\n",
       "    <tr>\n",
       "      <th>4</th>\n",
       "      <td>0</td>\n",
       "      <td>4</td>\n",
       "      <td>18.000000</td>\n",
       "      <td>18.000000</td>\n",
       "      <td>Payments</td>\n",
       "      <td>8.000000</td>\n",
       "      <td>16</td>\n",
       "      <td>0</td>\n",
       "      <td>0</td>\n",
       "      <td>Asia</td>\n",
       "      <td>Late Stage</td>\n",
       "      <td>3</td>\n",
       "      <td>Series D</td>\n",
       "      <td>0</td>\n",
       "      <td>0</td>\n",
       "      <td>0</td>\n",
       "      <td>0</td>\n",
       "      <td>0</td>\n",
       "      <td>1</td>\n",
       "      <td>0</td>\n",
       "      <td>0</td>\n",
       "      <td>0</td>\n",
       "      <td>0</td>\n",
       "      <td>0</td>\n",
       "      <td>0</td>\n",
       "      <td>1</td>\n",
       "      <td>1</td>\n",
       "      <td>1</td>\n",
       "      <td>0</td>\n",
       "      <td>0</td>\n",
       "      <td>0</td>\n",
       "      <td>0</td>\n",
       "      <td>0</td>\n",
       "      <td>1</td>\n",
       "      <td>0</td>\n",
       "      <td>1</td>\n",
       "      <td>0</td>\n",
       "      <td>0</td>\n",
       "      <td>0</td>\n",
       "      <td>0</td>\n",
       "      <td>0</td>\n",
       "      <td>0</td>\n",
       "      <td>0</td>\n",
       "      <td>0</td>\n",
       "      <td>0</td>\n",
       "      <td>0</td>\n",
       "      <td>0</td>\n",
       "      <td>0</td>\n",
       "      <td>1</td>\n",
       "      <td>0</td>\n",
       "      <td>0</td>\n",
       "      <td>0</td>\n",
       "      <td>0</td>\n",
       "      <td>0</td>\n",
       "      <td>0</td>\n",
       "      <td>0</td>\n",
       "      <td>0</td>\n",
       "      <td>0</td>\n",
       "      <td>0</td>\n",
       "      <td>0</td>\n",
       "      <td>0</td>\n",
       "      <td>0</td>\n",
       "      <td>0</td>\n",
       "      <td>0</td>\n",
       "      <td>0</td>\n",
       "      <td>0</td>\n",
       "      <td>0</td>\n",
       "      <td>0</td>\n",
       "      <td>0</td>\n",
       "      <td>0</td>\n",
       "      <td>0</td>\n",
       "      <td>0</td>\n",
       "      <td>0</td>\n",
       "      <td>1</td>\n",
       "      <td>0</td>\n",
       "      <td>0</td>\n",
       "      <td>0</td>\n",
       "      <td>0</td>\n",
       "    </tr>\n",
       "  </tbody>\n",
       "</table>\n",
       "</div>"
      ],
      "text/plain": [
       "   d_success  Total Number of Rounds  Total Amount Raised ($M)  Unique Amount Raised ($M)         Meta Category  Highest Amount Raised ($M)  Years in operation  Angel_round  Convertible Note_round Continent Largest Funding Round  Total Number of Investors Last Round  Corporate Round_round  Debt Financing_round  Equity Crowdfunding_round  Grant_round  Initial Coin Offering_round  Late Stage_round  Non Equity Assistance_round  Pre Seed_round  Private Equity_round  Product Crowdfunding_round  Secondary Market_round  Seed_round  Series A_round  Series B_round  Series C_round  Venture_round  Meta Category_Banking Operations  Meta Category_Capital Raising  Meta Category_Deposits and Lending  Meta Category_Financial Management  Meta Category_Payments  Continent_Africa  Continent_Asia  Continent_Australia/New Zealand  Continent_Data unavailable  Continent_Europe  Continent_North America  Continent_South America  Largest Funding Round_Angel  Largest Funding Round_Convertible Note  \\\n",
       "0          0                       2                267.152423                 267.152423  Deposits and Lending                  159.356632                   5            0                       0      Asia              Series C                          6   Series C                      0                     0                          0            0                            0                 0                            0               0                     0                           0                       0           0               0               1               1              0                                 0                              0                                   1                                   0                       0                 0               1                                0                           0                 0                        0                        0                            0                                       0   \n",
       "1          0                       2                158.731418                 158.731418  Deposits and Lending                  158.731418                  15            0                       0    Europe        Debt Financing                          2       Debt                      0                     1                          0            0                            0                 0                            0               0                     1                           0                       0           0               0               0               0              0                                 0                              0                                   1                                   0                       0                 0               0                                0                           0                 1                        0                        0                            0                                       0   \n",
       "2          0                       1                  0.354439                   0.354439       Capital Raising                    0.354439                   4            0                       0    Europe                  Seed                          1       Seed                      0                     0                          0            0                            0                 0                            0               0                     0                           0                       0           1               0               0               0              0                                 0                              1                                   0                                   0                       0                 0               0                                0                           0                 1                        0                        0                            0                                       0   \n",
       "3          0                       1                  0.000000                   0.000000  Financial Management                    0.000000                   7            0                       0    Africa           Undisclosed                          0    Data NA                      0                     0                          0            0                            0                 0                            0               0                     0                           0                       0           0               0               0               0              0                                 0                              0                                   0                                   1                       0                 1               0                                0                           0                 0                        0                        0                            0                                       0   \n",
       "4          0                       4                 18.000000                  18.000000              Payments                    8.000000                  16            0                       0      Asia            Late Stage                          3   Series D                      0                     0                          0            0                            0                 1                            0               0                     0                           0                       0           0               1               1               1              0                                 0                              0                                   0                                   0                       1                 0               1                                0                           0                 0                        0                        0                            0                                       0   \n",
       "\n",
       "   Largest Funding Round_Corporate Round  Largest Funding Round_Debt Financing  Largest Funding Round_Equity Crowdfunding  Largest Funding Round_Grant  Largest Funding Round_Initial Coin Offering  Largest Funding Round_Late Stage  Largest Funding Round_Non Equity Assistance  Largest Funding Round_Post Ipo Debt  Largest Funding Round_Post Ipo Equity  Largest Funding Round_Pre Seed  Largest Funding Round_Private Equity  Largest Funding Round_Product Crowdfunding  Largest Funding Round_Secondary Market  Largest Funding Round_Seed  Largest Funding Round_Series A  Largest Funding Round_Series B  Largest Funding Round_Series C  Largest Funding Round_Undisclosed  Largest Funding Round_Venture  Last Round_Angel  Last Round_Data NA  Last Round_Debt  Last Round_Grant  Last Round_PE  Last Round_Post IPO Equity  Last Round_Secondary  Last Round_Seed  Last Round_Series A  Last Round_Series B  Last Round_Series C  Last Round_Series D  Last Round_Series E  Last Round_Series F  Last Round_Series G  \\\n",
       "0                                      0                                     0                                          0                            0                                            0                                 0                                            0                                    0                                      0                               0                                     0                                           0                                       0                           0                               0                               0                               1                                  0                              0                 0                   0                0                 0              0                           0                     0                0                    0                    0                    1                    0                    0                    0                    0   \n",
       "1                                      0                                     1                                          0                            0                                            0                                 0                                            0                                    0                                      0                               0                                     0                                           0                                       0                           0                               0                               0                               0                                  0                              0                 0                   0                1                 0              0                           0                     0                0                    0                    0                    0                    0                    0                    0                    0   \n",
       "2                                      0                                     0                                          0                            0                                            0                                 0                                            0                                    0                                      0                               0                                     0                                           0                                       0                           1                               0                               0                               0                                  0                              0                 0                   0                0                 0              0                           0                     0                1                    0                    0                    0                    0                    0                    0                    0   \n",
       "3                                      0                                     0                                          0                            0                                            0                                 0                                            0                                    0                                      0                               0                                     0                                           0                                       0                           0                               0                               0                               0                                  1                              0                 0                   1                0                 0              0                           0                     0                0                    0                    0                    0                    0                    0                    0                    0   \n",
       "4                                      0                                     0                                          0                            0                                            0                                 1                                            0                                    0                                      0                               0                                     0                                           0                                       0                           0                               0                               0                               0                                  0                              0                 0                   0                0                 0              0                           0                     0                0                    0                    0                    0                    1                    0                    0                    0   \n",
       "\n",
       "   Last Round_Venture  \n",
       "0                   0  \n",
       "1                   0  \n",
       "2                   0  \n",
       "3                   0  \n",
       "4                   0  "
      ]
     },
     "execution_count": 7,
     "metadata": {},
     "output_type": "execute_result"
    }
   ],
   "source": [
    "print(data.shape)\n",
    "data.head()"
   ]
  },
  {
   "cell_type": "code",
   "execution_count": 8,
   "metadata": {
    "collapsed": true
   },
   "outputs": [
    {
     "data": {
      "text/plain": [
       "['d_success',\n",
       " 'Total Number of Rounds',\n",
       " 'Total Amount Raised ($M)',\n",
       " 'Unique Amount Raised ($M)',\n",
       " 'Highest Amount Raised ($M)',\n",
       " 'Years in operation',\n",
       " 'Angel_round',\n",
       " 'Convertible Note_round',\n",
       " 'Total Number of Investors',\n",
       " 'Corporate Round_round',\n",
       " 'Debt Financing_round',\n",
       " 'Equity Crowdfunding_round',\n",
       " 'Grant_round',\n",
       " 'Initial Coin Offering_round',\n",
       " 'Late Stage_round',\n",
       " 'Non Equity Assistance_round',\n",
       " 'Pre Seed_round',\n",
       " 'Private Equity_round',\n",
       " 'Product Crowdfunding_round',\n",
       " 'Secondary Market_round',\n",
       " 'Seed_round',\n",
       " 'Series A_round',\n",
       " 'Series B_round',\n",
       " 'Series C_round',\n",
       " 'Venture_round',\n",
       " 'Meta Category_Banking Operations',\n",
       " 'Meta Category_Capital Raising',\n",
       " 'Meta Category_Deposits and Lending',\n",
       " 'Meta Category_Financial Management',\n",
       " 'Meta Category_Payments',\n",
       " 'Continent_Africa',\n",
       " 'Continent_Asia',\n",
       " 'Continent_Australia/New Zealand',\n",
       " 'Continent_Data unavailable',\n",
       " 'Continent_Europe',\n",
       " 'Continent_North America',\n",
       " 'Continent_South America',\n",
       " 'Largest Funding Round_Angel',\n",
       " 'Largest Funding Round_Convertible Note',\n",
       " 'Largest Funding Round_Corporate Round',\n",
       " 'Largest Funding Round_Debt Financing',\n",
       " 'Largest Funding Round_Equity Crowdfunding',\n",
       " 'Largest Funding Round_Grant',\n",
       " 'Largest Funding Round_Initial Coin Offering',\n",
       " 'Largest Funding Round_Late Stage',\n",
       " 'Largest Funding Round_Non Equity Assistance',\n",
       " 'Largest Funding Round_Post Ipo Debt',\n",
       " 'Largest Funding Round_Post Ipo Equity',\n",
       " 'Largest Funding Round_Pre Seed',\n",
       " 'Largest Funding Round_Private Equity',\n",
       " 'Largest Funding Round_Product Crowdfunding',\n",
       " 'Largest Funding Round_Secondary Market',\n",
       " 'Largest Funding Round_Seed',\n",
       " 'Largest Funding Round_Series A',\n",
       " 'Largest Funding Round_Series B',\n",
       " 'Largest Funding Round_Series C',\n",
       " 'Largest Funding Round_Undisclosed',\n",
       " 'Largest Funding Round_Venture',\n",
       " 'Last Round_Angel',\n",
       " 'Last Round_Data NA',\n",
       " 'Last Round_Debt',\n",
       " 'Last Round_Grant',\n",
       " 'Last Round_PE',\n",
       " 'Last Round_Post IPO Equity',\n",
       " 'Last Round_Secondary',\n",
       " 'Last Round_Seed',\n",
       " 'Last Round_Series A',\n",
       " 'Last Round_Series B',\n",
       " 'Last Round_Series C',\n",
       " 'Last Round_Series D',\n",
       " 'Last Round_Series E',\n",
       " 'Last Round_Series F',\n",
       " 'Last Round_Series G',\n",
       " 'Last Round_Venture']"
      ]
     },
     "execution_count": 8,
     "metadata": {},
     "output_type": "execute_result"
    }
   ],
   "source": [
    "#Dropping the original categorical variables after creating the dummies\n",
    "data_vars=data.columns.values.tolist()\n",
    "to_keep=[i for i in data_vars if i not in cat_vars]\n",
    "to_keep"
   ]
  },
  {
   "cell_type": "code",
   "execution_count": 9,
   "metadata": {
    "collapsed": true
   },
   "outputs": [
    {
     "data": {
      "text/plain": [
       "array(['d_success', 'Total Number of Rounds', 'Total Amount Raised ($M)',\n",
       "       'Unique Amount Raised ($M)', 'Highest Amount Raised ($M)',\n",
       "       'Years in operation', 'Angel_round', 'Convertible Note_round',\n",
       "       'Total Number of Investors', 'Corporate Round_round',\n",
       "       'Debt Financing_round', 'Equity Crowdfunding_round', 'Grant_round',\n",
       "       'Initial Coin Offering_round', 'Late Stage_round',\n",
       "       'Non Equity Assistance_round', 'Pre Seed_round',\n",
       "       'Private Equity_round', 'Product Crowdfunding_round',\n",
       "       'Secondary Market_round', 'Seed_round', 'Series A_round',\n",
       "       'Series B_round', 'Series C_round', 'Venture_round',\n",
       "       'Meta Category_Banking Operations',\n",
       "       'Meta Category_Capital Raising',\n",
       "       'Meta Category_Deposits and Lending',\n",
       "       'Meta Category_Financial Management', 'Meta Category_Payments',\n",
       "       'Continent_Africa', 'Continent_Asia',\n",
       "       'Continent_Australia/New Zealand', 'Continent_Data unavailable',\n",
       "       'Continent_Europe', 'Continent_North America',\n",
       "       'Continent_South America', 'Largest Funding Round_Angel',\n",
       "       'Largest Funding Round_Convertible Note',\n",
       "       'Largest Funding Round_Corporate Round',\n",
       "       'Largest Funding Round_Debt Financing',\n",
       "       'Largest Funding Round_Equity Crowdfunding',\n",
       "       'Largest Funding Round_Grant',\n",
       "       'Largest Funding Round_Initial Coin Offering',\n",
       "       'Largest Funding Round_Late Stage',\n",
       "       'Largest Funding Round_Non Equity Assistance',\n",
       "       'Largest Funding Round_Post Ipo Debt',\n",
       "       'Largest Funding Round_Post Ipo Equity',\n",
       "       'Largest Funding Round_Pre Seed',\n",
       "       'Largest Funding Round_Private Equity',\n",
       "       'Largest Funding Round_Product Crowdfunding',\n",
       "       'Largest Funding Round_Secondary Market',\n",
       "       'Largest Funding Round_Seed', 'Largest Funding Round_Series A',\n",
       "       'Largest Funding Round_Series B', 'Largest Funding Round_Series C',\n",
       "       'Largest Funding Round_Undisclosed',\n",
       "       'Largest Funding Round_Venture', 'Last Round_Angel',\n",
       "       'Last Round_Data NA', 'Last Round_Debt', 'Last Round_Grant',\n",
       "       'Last Round_PE', 'Last Round_Post IPO Equity',\n",
       "       'Last Round_Secondary', 'Last Round_Seed', 'Last Round_Series A',\n",
       "       'Last Round_Series B', 'Last Round_Series C',\n",
       "       'Last Round_Series D', 'Last Round_Series E',\n",
       "       'Last Round_Series F', 'Last Round_Series G', 'Last Round_Venture'],\n",
       "      dtype=object)"
      ]
     },
     "execution_count": 9,
     "metadata": {},
     "output_type": "execute_result"
    }
   ],
   "source": [
    "#Final data columns\n",
    "data_final=data[to_keep]\n",
    "data_final.columns.values"
   ]
  },
  {
   "cell_type": "code",
   "execution_count": 10,
   "metadata": {},
   "outputs": [
    {
     "data": {
      "text/plain": [
       "(1932, 71)"
      ]
     },
     "execution_count": 10,
     "metadata": {},
     "output_type": "execute_result"
    }
   ],
   "source": [
    "# Dropping 'Largest Funding Round_Undisclosed' and 'Last Round_Data NA'\n",
    "data_final = data_final.drop(['Largest Funding Round_Undisclosed','Last Round_Data NA', 'Continent_Data unavailable'], axis=1)\n",
    "data_final.shape"
   ]
  },
  {
   "cell_type": "code",
   "execution_count": 11,
   "metadata": {},
   "outputs": [],
   "source": [
    "#Separating predictors and target variable\n",
    "predictors=data_final.drop('d_success', axis=1)\n",
    "target=data_final[['d_success']]"
   ]
  },
  {
   "cell_type": "code",
   "execution_count": null,
   "metadata": {},
   "outputs": [],
   "source": [
    "# # Pick only numeric variables to rescale\n",
    "# predictors_num = predictors[list(set(pd.Series(['Total Number of Rounds', 'Total Amount Raised ($M)', 'Unique Amount Raised ($M)',\n",
    "#                      'Highest Amount Raised ($M)', 'Years in operation'])))]\n",
    "# predictors_non_num = predictors[list(set(predictors.columns)-set(predictors_num))]\n",
    "# print(predictors_num.shape, predictors_non_num.shape)"
   ]
  },
  {
   "cell_type": "markdown",
   "metadata": {},
   "source": [
    "### Rescaling the data as the variables are on different scale\n",
    "\n",
    "1. If we try to apply distance based methods such as kNN on these features, feature with the largest range will dominate the outcome results and we’ll obtain less accurate predictions. We can overcome this trouble using feature scaling.\n",
    "2. It should be kept in mind while performing distance based methods we must attempt to scale the data, so that the feature with lesser significance might not end up dominating the objective function due to its larger range. In addition, features having different unit should also be scaled thus providing each feature equal initial weightage and at the end we will have a better prediction model."
   ]
  },
  {
   "cell_type": "code",
   "execution_count": 12,
   "metadata": {},
   "outputs": [],
   "source": [
    "# MinMaxScaler that will scale down all the features between 0 and 1.\n",
    "\n",
    "from sklearn.preprocessing import MinMaxScaler\n",
    "min_max = MinMaxScaler()\n",
    "\n",
    "# predictors_num_rescaled = pd.DataFrame(min_max.fit_transform(predictors_num), columns=predictors_num.columns)\n",
    "# X_rescaled = predictors_num_rescaled.join(predictors_non_num)\n",
    "\n",
    "X_rescaled = pd.DataFrame(min_max.fit_transform(predictors), columns=predictors.columns)\n",
    "# X_rescaled"
   ]
  },
  {
   "cell_type": "markdown",
   "metadata": {},
   "source": [
    "### Feature Standardization\n",
    "\n",
    "1. In logistic regression, each feature is assigned a weight or coefficient (Wi). If there is a feature with relatively large range and it is insignificant in the objective function then logistic regression will itself assign a very low value to its co-efficient, thus neutralizing the dominant effect of that particular feature, whereas distance based method such as kNN does not have this inbuilt strategy, thus it requires scaling.\n",
    "2. Standardization (or Z-score normalization) is the process where the features are rescaled so that they’ll have the properties of a standard normal distribution with μ=0 and σ=1, where μ is the mean (average) and σ is the standard deviation from the mean.\n",
    "3. Elements such as l1 ,l2 regularizer in linear models (logistic comes under this category) and RBF kernel in SVM in objective function of learners assumes that all the features are centered around zero and have variance in the same order.\n",
    "4. Standardizing the data when using a estimator having l1 or l2 regularization helps us to increase the accuracy of the prediction model. Other learners like kNN with euclidean distance measure, k-means, SVM, perceptron, neural networks, linear discriminant analysis, principal component analysis may perform better with standardized data."
   ]
  },
  {
   "cell_type": "code",
   "execution_count": 13,
   "metadata": {},
   "outputs": [],
   "source": [
    "# Standardizing the data\n",
    "\n",
    "from sklearn.preprocessing import scale\n",
    "\n",
    "# predictors_num_std = pd.DataFrame(scale(predictors_num), columns=predictors_num.columns)\n",
    "# X_standardized = predictors_num_std.join(predictors_non_num)\n",
    "\n",
    "X_standardized = pd.DataFrame(scale(predictors), columns=predictors.columns)\n",
    "# X_standardized"
   ]
  },
  {
   "cell_type": "markdown",
   "metadata": {},
   "source": [
    "### 2. Over-sampling using SMOTE\n",
    "\n",
    "###### At a high level, SMOTE:\n",
    "\n",
    "1. Works by creating synthetic samples from the minor class (Non-IPO) instead of creating copies.\n",
    "2. Randomly choosing one of the k-nearest-neighbors and using it to create a similar, but randomly tweaked, new observations."
   ]
  },
  {
   "cell_type": "code",
   "execution_count": 14,
   "metadata": {},
   "outputs": [
    {
     "name": "stdout",
     "output_type": "stream",
     "text": [
      "length of original data is:  1352\n",
      "Number of Non-IPO in oversampled data:  1327\n",
      "Number of IPO data in oversampled data:  25\n",
      "Proportion of Non-IPO data in original data is:  0.98\n",
      "Proportion of IPO data in original data is:  0.02\n",
      "\n",
      "\n",
      "length of oversampled data is:  2654\n",
      "Number of Non-IPO in oversampled data:  1327\n",
      "Number of IPO data in oversampled data:  1327\n",
      "Proportion of Non-IPO data in oversampled data is:  0.5\n",
      "Proportion of IPO data in oversampled data is:  0.5\n"
     ]
    }
   ],
   "source": [
    "import warnings\n",
    "warnings.filterwarnings(\"ignore\")\n",
    "\n",
    "# X1 = data_final.loc[:, data_final.columns != 'd_success']\n",
    "# y1 = data_final.loc[:, data_final.columns == 'd_success']\n",
    "\n",
    "#### Select X1 based on the required; y1 will be common for any X1 ###\n",
    "# X1=predictors\n",
    "# X1=X_standardized\n",
    "X1=X_rescaled\n",
    "y1=target\n",
    "\n",
    "os = SMOTE(k_neighbors=5, random_state=999) # we can use different values of k\n",
    "\n",
    "X_train1, X_test1, y_train1, y_test1 = train_test_split(X1, y1, test_size=0.3, random_state=999)\n",
    "\n",
    "columns = X_train1.columns\n",
    "os_data_X,os_data_y=os.fit_sample(X_train1, y_train1)\n",
    "os_data_X = pd.DataFrame(data=os_data_X,columns=columns )\n",
    "os_data_y= pd.DataFrame(data=os_data_y,columns=['d_success'])\n",
    "\n",
    "# we can Check the numbers of our data\n",
    "print(\"length of original data is: \",len(X_train1))\n",
    "print(\"Number of Non-IPO in oversampled data: \",len(y_train1[y_train1['d_success']==0]))\n",
    "print(\"Number of IPO data in oversampled data: \",len(y_train1[y_train1['d_success']==1]))\n",
    "print(\"Proportion of Non-IPO data in original data is: \",round(len(y_train1[y_train1['d_success']==0])/len(X_train1),2))\n",
    "print(\"Proportion of IPO data in original data is: \",round(len(y_train1[y_train1['d_success']==1])/len(X_train1),2))\n",
    "\n",
    "print(\"\\n\")\n",
    "\n",
    "print(\"length of oversampled data is: \",len(os_data_X))\n",
    "print(\"Number of Non-IPO in oversampled data: \",len(os_data_y[os_data_y['d_success']==0]))\n",
    "print(\"Number of IPO data in oversampled data: \",len(os_data_y[os_data_y['d_success']==1]))\n",
    "print(\"Proportion of Non-IPO data in oversampled data is: \",len(os_data_y[os_data_y['d_success']==0])/len(os_data_X))\n",
    "print(\"Proportion of IPO data in oversampled data is: \",len(os_data_y[os_data_y['d_success']==1])/len(os_data_X))"
   ]
  },
  {
   "cell_type": "markdown",
   "metadata": {},
   "source": [
    "### GridSearchCV evaluating using multiple scorers simultaneously"
   ]
  },
  {
   "cell_type": "code",
   "execution_count": 15,
   "metadata": {},
   "outputs": [
    {
     "name": "stdout",
     "output_type": "stream",
     "text": [
      "Result on Rescaled data\n",
      "====================\n",
      "best params: LogisticRegression(C=1.80001, class_weight=None, dual=False,\n",
      "          fit_intercept=True, intercept_scaling=1, max_iter=100,\n",
      "          multi_class='warn', n_jobs=None, penalty='l2', random_state=999,\n",
      "          solver='warn', tol=0.0001, verbose=0, warm_start=False)\n",
      "best params: {'C': 1.80001}\n",
      "best score: 0.984472049689441\n",
      "====================\n"
     ]
    },
    {
     "data": {
      "image/png": "[encoded data removed]",
      "text/plain": [
       "<matplotlib.figure.Figure at 0x208fecdf128>"
      ]
     },
     "metadata": {
      "needs_background": "light"
     },
     "output_type": "display_data"
    },
    {
     "name": "stdout",
     "output_type": "stream",
     "text": [
      "Result on oversampled data\n",
      "====================\n",
      "best params: LogisticRegression(C=2.8000100000000003, class_weight=None, dual=False,\n",
      "          fit_intercept=True, intercept_scaling=1, max_iter=100,\n",
      "          multi_class='warn', n_jobs=None, penalty='l2', random_state=999,\n",
      "          solver='warn', tol=0.0001, verbose=0, warm_start=False)\n",
      "best params: {'C': 2.8000100000000003}\n",
      "best score: 0.9397136397889977\n",
      "====================\n"
     ]
    }
   ],
   "source": [
    "from sklearn.model_selection import GridSearchCV\n",
    "\n",
    "# X = data_final[Selected_features]\n",
    "\n",
    "param_grid = {'C': np.arange(1e-05, 3, 0.1)}\n",
    "scoring = {'Accuracy': 'accuracy', 'AUC': 'roc_auc', 'Log_loss': 'neg_log_loss'}\n",
    "\n",
    "gs = GridSearchCV(LogisticRegression(random_state=999), return_train_score=True,\n",
    "                  param_grid=param_grid, scoring=scoring, cv=10, refit='Accuracy')\n",
    "\n",
    "# gs.fit(predictors, target)\n",
    "# gs.fit(X_standardized, target)\n",
    "gs.fit(X_rescaled, target)\n",
    "\n",
    "#### Result on Rescaled data\n",
    "\n",
    "print(\"Result on Rescaled data\")\n",
    "\n",
    "results = gs.cv_results_\n",
    "\n",
    "print('='*20)\n",
    "print(\"best params: \" + str(gs.best_estimator_))\n",
    "print(\"best params: \" + str(gs.best_params_))\n",
    "print('best score:', gs.best_score_)\n",
    "print('='*20)\n",
    "\n",
    "plt.figure(figsize=(10, 10))\n",
    "plt.title(\"GridSearchCV evaluating using multiple scorers simultaneously\",fontsize=16)\n",
    "\n",
    "plt.xlabel(\"Inverse of regularization strength: C\")\n",
    "plt.ylabel(\"Score\")\n",
    "plt.grid()\n",
    "\n",
    "ax = plt.axes()\n",
    "ax.set_xlim(0, param_grid['C'].max()) \n",
    "ax.set_ylim(0.35, 0.95)\n",
    "\n",
    "# Get the regular numpy array from the MaskedArray\n",
    "X_axis = np.array(results['param_C'].data, dtype=float)\n",
    "\n",
    "for scorer, color in zip(list(scoring.keys()), ['g', 'k', 'b']): \n",
    "    for sample, style in (('train', '--'), ('test', '-')):\n",
    "        sample_score_mean = -results['mean_%s_%s' % (sample, scorer)] if scoring[scorer]=='neg_log_loss' else results['mean_%s_%s' % (sample, scorer)]\n",
    "        sample_score_std = results['std_%s_%s' % (sample, scorer)]\n",
    "        ax.fill_between(X_axis, sample_score_mean - sample_score_std,\n",
    "                        sample_score_mean + sample_score_std,\n",
    "                        alpha=0.1 if sample == 'test' else 0, color=color)\n",
    "        ax.plot(X_axis, sample_score_mean, style, color=color,\n",
    "                alpha=1 if sample == 'test' else 0.7,\n",
    "                label=\"%s (%s)\" % (scorer, sample))\n",
    "\n",
    "    best_index = np.nonzero(results['rank_test_%s' % scorer] == 1)[0][0]\n",
    "    best_score = -results['mean_test_%s' % scorer][best_index] if scoring[scorer]=='neg_log_loss' else results['mean_test_%s' % scorer][best_index]\n",
    "        \n",
    "    # Plot a dotted vertical line at the best score for that scorer marked by x\n",
    "    ax.plot([X_axis[best_index], ] * 2, [0, best_score],\n",
    "            linestyle='-.', color=color, marker='x', markeredgewidth=3, ms=8)\n",
    "\n",
    "    # Annotate the best score for that scorer\n",
    "    ax.annotate(\"%0.2f\" % best_score,\n",
    "                (X_axis[best_index], best_score + 0.005))\n",
    "\n",
    "plt.legend(loc=\"best\")\n",
    "plt.grid('off')\n",
    "plt.show()\n",
    "\n",
    "# #### Result on oversampled data\n",
    "\n",
    "print(\"Result on oversampled data\")\n",
    "\n",
    "gs1 = GridSearchCV(LogisticRegression(random_state=999), return_train_score=True,\n",
    "                  param_grid=param_grid, scoring=scoring, cv=10, refit='Accuracy')\n",
    "gs1.fit(os_data_X, os_data_y)\n",
    "\n",
    "results = gs1.cv_results_\n",
    "\n",
    "print('='*20)\n",
    "print(\"best params: \" + str(gs1.best_estimator_))\n",
    "print(\"best params: \" + str(gs1.best_params_))\n",
    "print('best score:', gs1.best_score_)\n",
    "print('='*20)"
   ]
  },
  {
   "cell_type": "markdown",
   "metadata": {},
   "source": [
    "# Logistic Regression and Results"
   ]
  },
  {
   "cell_type": "markdown",
   "metadata": {},
   "source": [
    "### 1. Feature selection"
   ]
  },
  {
   "cell_type": "markdown",
   "metadata": {},
   "source": [
    "##### 1.1 Feature ranking with recursive feature elimination and cross-validation\n",
    "\n",
    "RFECV performs RFE in a cross-validation loop to find the optimal number or the best number of features. Hereafter a recursive feature elimination applied on logistic regression with automatic tuning of the number of features selected with cross-validation."
   ]
  },
  {
   "cell_type": "code",
   "execution_count": 16,
   "metadata": {
    "scrolled": false
   },
   "outputs": [
    {
     "name": "stdout",
     "output_type": "stream",
     "text": [
      "Optimal number of features with original predictors: 16\n",
      "Selected features with original predictors: ['Total Amount Raised ($M)', 'Unique Amount Raised ($M)', 'Years in operation', 'Grant_round', 'Secondary Market_round', 'Series C_round', 'Meta Category_Deposits and Lending', 'Largest Funding Round_Late Stage', 'Largest Funding Round_Post Ipo Debt', 'Largest Funding Round_Post Ipo Equity', 'Largest Funding Round_Private Equity', 'Largest Funding Round_Series C', 'Last Round_PE', 'Last Round_Secondary', 'Last Round_Seed', 'Last Round_Series E']\n"
     ]
    },
    {
     "data": {
      "image/png": "[encoded data removed]",
      "text/plain": [
       "<matplotlib.figure.Figure at 0x208fece27f0>"
      ]
     },
     "metadata": {
      "needs_background": "light"
     },
     "output_type": "display_data"
    },
    {
     "name": "stdout",
     "output_type": "stream",
     "text": [
      "Optimal number of features with rescaled predictors: 16\n",
      "Selected features with rescaled predictors: ['Total Amount Raised ($M)', 'Unique Amount Raised ($M)', 'Years in operation', 'Grant_round', 'Secondary Market_round', 'Series C_round', 'Meta Category_Deposits and Lending', 'Largest Funding Round_Late Stage', 'Largest Funding Round_Post Ipo Debt', 'Largest Funding Round_Post Ipo Equity', 'Largest Funding Round_Private Equity', 'Largest Funding Round_Series C', 'Last Round_PE', 'Last Round_Secondary', 'Last Round_Seed', 'Last Round_Series E']\n"
     ]
    },
    {
     "data": {
      "image/png": "[encoded data removed]",
      "text/plain": [
       "<matplotlib.figure.Figure at 0x208ff43c978>"
      ]
     },
     "metadata": {
      "needs_background": "light"
     },
     "output_type": "display_data"
    },
    {
     "name": "stdout",
     "output_type": "stream",
     "text": [
      "Optimal number of features with standardized predictors: 16\n",
      "Selected features with standardized predictors: ['Total Amount Raised ($M)', 'Unique Amount Raised ($M)', 'Years in operation', 'Grant_round', 'Secondary Market_round', 'Series C_round', 'Meta Category_Deposits and Lending', 'Largest Funding Round_Late Stage', 'Largest Funding Round_Post Ipo Debt', 'Largest Funding Round_Post Ipo Equity', 'Largest Funding Round_Private Equity', 'Largest Funding Round_Series C', 'Last Round_PE', 'Last Round_Secondary', 'Last Round_Seed', 'Last Round_Series E']\n"
     ]
    },
    {
     "data": {
      "image/png": "[encoded data removed]",
      "text/plain": [
       "<matplotlib.figure.Figure at 0x208ff23ca58>"
      ]
     },
     "metadata": {
      "needs_background": "light"
     },
     "output_type": "display_data"
    },
    {
     "name": "stdout",
     "output_type": "stream",
     "text": [
      "Optimal number of features with oversampled predictors: 59\n",
      "Selected features with oversampled predictors: ['Total Number of Rounds', 'Years in operation', 'Angel_round', 'Convertible Note_round', 'Total Number of Investors', 'Corporate Round_round', 'Debt Financing_round', 'Equity Crowdfunding_round', 'Grant_round', 'Initial Coin Offering_round', 'Late Stage_round', 'Non Equity Assistance_round', 'Pre Seed_round', 'Private Equity_round', 'Product Crowdfunding_round', 'Secondary Market_round', 'Seed_round', 'Series A_round', 'Series B_round', 'Series C_round', 'Venture_round', 'Meta Category_Financial Management', 'Meta Category_Payments', 'Continent_Africa', 'Continent_Asia', 'Continent_Australia/New Zealand', 'Continent_Europe', 'Continent_North America', 'Continent_South America', 'Largest Funding Round_Angel', 'Largest Funding Round_Debt Financing', 'Largest Funding Round_Equity Crowdfunding', 'Largest Funding Round_Grant', 'Largest Funding Round_Initial Coin Offering', 'Largest Funding Round_Late Stage', 'Largest Funding Round_Post Ipo Debt', 'Largest Funding Round_Post Ipo Equity', 'Largest Funding Round_Private Equity', 'Largest Funding Round_Product Crowdfunding', 'Largest Funding Round_Secondary Market', 'Largest Funding Round_Seed', 'Largest Funding Round_Series A', 'Largest Funding Round_Series B', 'Largest Funding Round_Venture', 'Last Round_Angel', 'Last Round_Debt', 'Last Round_Grant', 'Last Round_PE', 'Last Round_Post IPO Equity', 'Last Round_Secondary', 'Last Round_Seed', 'Last Round_Series A', 'Last Round_Series B', 'Last Round_Series C', 'Last Round_Series D', 'Last Round_Series E', 'Last Round_Series F', 'Last Round_Series G', 'Last Round_Venture']\n"
     ]
    },
    {
     "data": {
      "image/png": "[encoded data removed]",
      "text/plain": [
       "<matplotlib.figure.Figure at 0x208ff2665f8>"
      ]
     },
     "metadata": {
      "needs_background": "light"
     },
     "output_type": "display_data"
    }
   ],
   "source": [
    "import warnings\n",
    "warnings.filterwarnings(\"ignore\")\n",
    "\n",
    "from sklearn.feature_selection import RFECV\n",
    "\n",
    "# Create the RFE object and compute a cross-validated score.\n",
    "# The \"accuracy\" scoring is proportional to the number of correct classifications\n",
    "rfecv = RFECV(estimator=LogisticRegression(C=1.80001, penalty='l2'), step=1, cv=10, scoring='accuracy') # For rescaled \n",
    "# rfecv = RFECV(estimator=LogisticRegression(C=2.7000100000000002, penalty='l2'), step=1, cv=10, scoring='accuracy') # For oversampled\n",
    "rfecv1 = rfecv.fit(predictors, target)\n",
    "rfecv2 = rfecv.fit(X_rescaled, target)\n",
    "rfecv3 = rfecv.fit(X_standardized, target)\n",
    "\n",
    "# # On Oversampled Data\n",
    "rfecvOS = RFECV(estimator=LogisticRegression(C=2.8000100000000003, penalty='l2'), step=1, cv=10, scoring='accuracy')\n",
    "rfecv4 = rfecvOS.fit(os_data_X, os_data_y) # On Oversampled data\n",
    "\n",
    "####### With Original predictors value #########\n",
    "print(\"Optimal number of features with original predictors: %d\" % rfecv1.n_features_)\n",
    "print('Selected features with original predictors: %s' % list(predictors.columns[rfecv1.support_]))\n",
    "\n",
    "# Plot number of features VS. cross-validation scores\n",
    "plt.figure(figsize=(10,6))\n",
    "plt.xlabel(\"Number of features selected\")\n",
    "plt.ylabel(\"Cross validation score (nb of correct classifications)\")\n",
    "plt.plot(range(1, len(rfecv1.grid_scores_) + 1), rfecv1.grid_scores_)\n",
    "plt.show()\n",
    "\n",
    "####### With rescaled predictors value #########\n",
    "print(\"Optimal number of features with rescaled predictors: %d\" % rfecv2.n_features_)\n",
    "print('Selected features with rescaled predictors: %s' % list(X_rescaled.columns[rfecv2.support_]))\n",
    "\n",
    "# Plot number of features VS. cross-validation scores\n",
    "plt.figure(figsize=(10,6))\n",
    "plt.xlabel(\"Number of features selected\")\n",
    "plt.ylabel(\"Cross validation score (nb of correct classifications)\")\n",
    "plt.plot(range(1, len(rfecv2.grid_scores_) + 1), rfecv2.grid_scores_)\n",
    "plt.show()\n",
    "# plt.savefig('RFECV.png')\n",
    "\n",
    "####### With standardized predictors value #########\n",
    "print(\"Optimal number of features with standardized predictors: %d\" % rfecv3.n_features_)\n",
    "print('Selected features with standardized predictors: %s' % list(X_standardized.columns[rfecv3.support_]))\n",
    "\n",
    "# Plot number of features VS. cross-validation scores\n",
    "plt.figure(figsize=(10,6))\n",
    "plt.xlabel(\"Number of features selected\")\n",
    "plt.ylabel(\"Cross validation score (nb of correct classifications)\")\n",
    "plt.plot(range(1, len(rfecv3.grid_scores_) + 1), rfecv3.grid_scores_)\n",
    "plt.show()\n",
    "\n",
    "\n",
    "# ####### With oversampled data #########\n",
    "print(\"Optimal number of features with oversampled predictors: %d\" % rfecv4.n_features_)\n",
    "print('Selected features with oversampled predictors: %s' % list(os_data_X.columns[rfecv4.support_]))\n",
    "\n",
    "# Plot number of features VS. cross-validation scores\n",
    "plt.figure(figsize=(10,6))\n",
    "plt.xlabel(\"Number of features selected\")\n",
    "plt.ylabel(\"Cross validation score (nb of correct classifications)\")\n",
    "plt.plot(range(1, len(rfecv4.grid_scores_) + 1), rfecv4.grid_scores_)\n",
    "plt.show()"
   ]
  },
  {
   "cell_type": "markdown",
   "metadata": {},
   "source": [
    "##### 1.2 Recursive feature elimination\n",
    "\n",
    "Given an external estimator that assigns weights to features, recursive feature elimination (RFE) is to select features by recursively considering smaller and smaller sets of features. First, the estimator is trained on the initial set of features and the importance of each feature is obtained either through a coef_ attribute or through a feature_importances_ attribute. Then, the least important features are pruned from current set of features.That procedure is recursively repeated on the pruned set until the desired number of features to select is eventually reached."
   ]
  },
  {
   "cell_type": "code",
   "execution_count": null,
   "metadata": {},
   "outputs": [],
   "source": [
    "import warnings\n",
    "warnings.filterwarnings(\"ignore\")\n",
    "\n",
    "from sklearn.feature_selection import RFE\n",
    "\n",
    "# Build a logreg and compute the feature importances\n",
    "model = LogisticRegression(C=1.80001) #Change the value of 'C' based on the best parameters that we get from GridSearch CV\n",
    "\n",
    "# create the RFE model and select 18 attributes\n",
    "rfe = RFE(model, 15)\n",
    "rfe1 = rfe.fit(predictors, target)\n",
    "rfe2 = rfe.fit(X_rescaled, target)\n",
    "rfe3 = rfe.fit(X_standardized, target)\n",
    "\n",
    "# summarize the selection of the attributes\n",
    "print('Selected features with original data: %s\\n' % list(predictors.columns[rfe1.support_]))\n",
    "print('Selected features with rescaled data: %s\\n' % list(X_rescaled.columns[rfe2.support_]))\n",
    "print('Selected features with standardized data: %s' % list(X_standardized.columns[rfe3.support_]))\n",
    "\n",
    "# For oversampled data\n",
    "modelOS = LogisticRegression(C=2.8000100000000003)\n",
    "rfeOS = RFE(modelOS, 15)\n",
    "\n",
    "print('Selected features with oversampled data: %s' % list(os_data_X.columns[rfeOS.support_]))"
   ]
  },
  {
   "cell_type": "code",
   "execution_count": null,
   "metadata": {},
   "outputs": [],
   "source": [
    "# # Correlation with original predictors value\n",
    "\n",
    "# #Features suggested by Logistics Regression\n",
    "# selected_features = ['Years in operation', 'Post Ipo Debt_round', 'Post Ipo Equity_round', 'Series A_round',\n",
    "#                      'Series B_round', 'Venture_round', 'Post Ipo Debt_days', 'Seed_days', 'Series A_days',\n",
    "#                      'Series B_days', 'Series C_days', 'Venture_days', 'Meta Category_Deposits and Lending',\n",
    "#                      'Last Round_PE', 'Largest Funding Round_Late Stage', 'Largest Funding Round_Post Ipo Debt',\n",
    "#                      'Largest Funding Round_Private Equity', 'Largest Funding Round_Series C']\n",
    "\n",
    "# data_X = data_final[selected_features]\n",
    "\n",
    "# # plt.rcParams['figure.figsize']=12,6\n",
    "# plt.figure(figsize=(12, 6))\n",
    "# sns.heatmap(data_X.corr(), annot=True, cmap=\"RdYlGn\")\n",
    "# plt.show()\n",
    "# # fig.savefig('cor')"
   ]
  },
  {
   "cell_type": "markdown",
   "metadata": {},
   "source": [
    "### 3. Review of model evaluation procedures"
   ]
  },
  {
   "cell_type": "markdown",
   "metadata": {},
   "source": [
    "### Split the data into train and test"
   ]
  },
  {
   "cell_type": "markdown",
   "metadata": {},
   "source": [
    "###### NOTE: Run the next next line of code only for the original and not the oversampled data models; otherwise skip the next line"
   ]
  },
  {
   "cell_type": "code",
   "execution_count": 17,
   "metadata": {},
   "outputs": [
    {
     "name": "stdout",
     "output_type": "stream",
     "text": [
      "(1352, 70) (1352, 1)\n",
      "(580, 70) (580, 1)\n"
     ]
    }
   ],
   "source": [
    "#### Select X for splitting based on the requirement; y will be same for all\n",
    "\n",
    "# X=X_standardized\n",
    "X=X_rescaled\n",
    "# X=predictors\n",
    "y=target\n",
    "\n",
    "# ## In case we want to run the model with few selected features based on RFE\n",
    "# X=X_standardized[selected_features]\n",
    "# X=X_rescaled[selected_features]\n",
    "# X=predictors[selected_features]\n",
    "# y=target\n",
    "\n",
    "X_train, X_test, y_train, y_test = train_test_split(X, y, test_size=0.3, random_state=999)\n",
    "\n",
    "print(X_train.shape, y_train.shape)\n",
    "print(X_test.shape, y_test.shape)"
   ]
  },
  {
   "cell_type": "markdown",
   "metadata": {},
   "source": [
    "###### Note: Run the next line of code only for the oversampled data models. For normal data models run the previous line of code"
   ]
  },
  {
   "cell_type": "code",
   "execution_count": 24,
   "metadata": {},
   "outputs": [
    {
     "name": "stdout",
     "output_type": "stream",
     "text": [
      "(2654, 70) (2654, 1)\n",
      "(580, 70) (580, 1)\n"
     ]
    }
   ],
   "source": [
    "X_train = os_data_X\n",
    "y_train = os_data_y\n",
    "X_test = X_test1\n",
    "y_test = y_test1\n",
    "\n",
    "# ## In case we want to run the model with few selected features based on RFE\n",
    "# X_train = os_data_X[selected_features]\n",
    "# y_train = os_data_y\n",
    "# X_test = X_test1[selected_features]\n",
    "# y_test = y_test1\n",
    "\n",
    "print(X_train.shape, y_train.shape)\n",
    "print(X_test.shape, y_test.shape)"
   ]
  },
  {
   "cell_type": "markdown",
   "metadata": {},
   "source": [
    "##### 3.1 Model evaluation based on simple train/test split"
   ]
  },
  {
   "cell_type": "code",
   "execution_count": 25,
   "metadata": {},
   "outputs": [
    {
     "name": "stdout",
     "output_type": "stream",
     "text": [
      "Result on train data:\n",
      "\n",
      "LogisticRegression accuracy is 0.944\n",
      "LogisticRegression log_loss is 0.160\n",
      "LogisticRegression auc is 0.984\n"
     ]
    },
    {
     "data": {
      "image/png": "[encoded data removed]",
      "text/plain": [
       "<matplotlib.figure.Figure at 0x208ff31aba8>"
      ]
     },
     "metadata": {
      "needs_background": "light"
     },
     "output_type": "display_data"
    },
    {
     "name": "stdout",
     "output_type": "stream",
     "text": [
      "Result on validation/test data:\n",
      "\n",
      "LogisticRegression accuracy is 0.910\n",
      "LogisticRegression log_loss is 0.217\n",
      "LogisticRegression auc is 0.807\n"
     ]
    },
    {
     "data": {
      "image/png": "[encoded data removed]",
      "text/plain": [
       "<matplotlib.figure.Figure at 0x208ff7105c0>"
      ]
     },
     "metadata": {
      "needs_background": "light"
     },
     "output_type": "display_data"
    },
    {
     "data": {
      "image/png": "[encoded data removed]",
      "text/plain": [
       "<matplotlib.figure.Figure at 0x208ff2574e0>"
      ]
     },
     "metadata": {
      "needs_background": "light"
     },
     "output_type": "display_data"
    },
    {
     "data": {
      "image/png": "[encoded data removed]",
      "text/plain": [
       "<matplotlib.figure.Figure at 0x208feb6fda0>"
      ]
     },
     "metadata": {
      "needs_background": "light"
     },
     "output_type": "display_data"
    }
   ],
   "source": [
    "import random\n",
    "random.seed(999)\n",
    "\n",
    "from sklearn.model_selection import train_test_split, cross_val_score\n",
    "from sklearn.metrics import accuracy_score, classification_report, precision_score, recall_score \n",
    "from sklearn.metrics import confusion_matrix, precision_recall_curve, roc_curve, auc, log_loss\n",
    "\n",
    "# # create X (features) and y (response)\n",
    "# X = data_final[Selected_features]\n",
    "# y = data_final['d_success']\n",
    "\n",
    "# use train/test split with different random_state values\n",
    "# we can change the random_state values that changes the accuracy scores\n",
    "# the scores change a lot, this is why testing scores is a high-variance estimate\n",
    "# X_train, X_test, y_train, y_test = train_test_split(X, y, test_size=0.3, random_state=999)\n",
    "# print(X_train.shape, y_train.shape)\n",
    "# print(X_test.shape, y_test.shape)\n",
    "\n",
    "# check classification scores of logistic regression\n",
    "logreg = LogisticRegression(C=2.8000100000000003)\n",
    "logreg.fit(X_train, y_train)\n",
    "\n",
    "y_pred_train = logreg.predict(X_train)\n",
    "y_pred = logreg.predict(X_test)\n",
    "\n",
    "y_pred_proba_train = logreg.predict_proba(X_train)[:, 1]\n",
    "y_pred_proba = logreg.predict_proba(X_test)[:, 1]\n",
    "\n",
    "\n",
    "print('Result on train data:\\n')\n",
    "[fpr, tpr, thr] = roc_curve(y_train, y_pred_proba_train)\n",
    "print(logreg.__class__.__name__+\" accuracy is %2.3f\" % accuracy_score(y_train, y_pred_train))\n",
    "print(logreg.__class__.__name__+\" log_loss is %2.3f\" % log_loss(y_train, y_pred_proba_train))\n",
    "print(logreg.__class__.__name__+\" auc is %2.3f\" % auc(fpr, tpr))\n",
    "\n",
    "idx = np.min(np.where(tpr > 0.95)) # index of the first threshold for which the sensibility > 0.95\n",
    "\n",
    "plt.figure(figsize=(6,4))\n",
    "plt.plot(fpr, tpr, color='coral', label='ROC curve (area = %0.3f)' % auc(fpr, tpr))\n",
    "plt.plot([0, 1], [0, 1], 'k--')\n",
    "plt.plot([0,fpr[idx]], [tpr[idx],tpr[idx]], 'k--', color='blue')\n",
    "plt.plot([fpr[idx],fpr[idx]], [0,tpr[idx]], 'k--', color='blue')\n",
    "plt.xlim([0.0, 1.0])\n",
    "plt.ylim([0.0, 1.05])\n",
    "plt.xlabel('False Positive Rate (1 - specificity)', fontsize=14)\n",
    "plt.ylabel('True Positive Rate (recall)', fontsize=14)\n",
    "plt.title('Receiver operating characteristic (ROC) curve')\n",
    "plt.legend(loc=\"lower right\")\n",
    "plt.show()\n",
    "\n",
    "#### Confusion Matrix on train data\n",
    "# print(logreg.__class__.__name__+\" confusion matrix \\n {}\".format(confusion_matrix(y_train, y_pred_train)))\n",
    "\n",
    "plt.figure(figsize=(4,4))\n",
    "sns.heatmap(confusion_matrix(y_train, y_pred_train), annot=True, fmt=\".3f\", linewidths=.5, square = True, cmap = 'Blues_r');\n",
    "plt.ylabel('Actual label');\n",
    "plt.xlabel('Predicted label');\n",
    "all_sample_title = 'Accuracy Score on training set: {0}'.format(round(accuracy_score(y_train, y_pred_train),4))\n",
    "plt.title(all_sample_title, size = 10)\n",
    "\n",
    "\n",
    "#################### Test/Validation ######################\n",
    "\n",
    "print(\"Result on validation/test data:\\n\")\n",
    "[fpr1, tpr1, thr1] = roc_curve(y_test, y_pred_proba)\n",
    "print(logreg.__class__.__name__+\" accuracy is %2.3f\" % accuracy_score(y_test, y_pred))\n",
    "print(logreg.__class__.__name__+\" log_loss is %2.3f\" % log_loss(y_test, y_pred_proba))\n",
    "print(logreg.__class__.__name__+\" auc is %2.3f\" % auc(fpr1, tpr1))\n",
    "\n",
    "idx1 = np.min(np.where(tpr1 > 0.95)) # index of the first threshold for which the sensibility > 0.95\n",
    "\n",
    "plt.figure(figsize=(6,4))\n",
    "plt.plot(fpr1, tpr1, color='coral', label='ROC curve (area = %0.3f)' % auc(fpr1, tpr1))\n",
    "plt.plot([0, 1], [0, 1], 'k--')\n",
    "plt.plot([0,fpr1[idx1]], [tpr1[idx1],tpr1[idx1]], 'k--', color='blue')\n",
    "plt.plot([fpr1[idx1],fpr1[idx1]], [0,tpr1[idx1]], 'k--', color='blue')\n",
    "plt.xlim([0.0, 1.0])\n",
    "plt.ylim([0.0, 1.05])\n",
    "plt.xlabel('False Positive Rate (1 - specificity)', fontsize=14)\n",
    "plt.ylabel('True Positive Rate (recall)', fontsize=14)\n",
    "plt.title('Receiver operating characteristic (ROC) curve')\n",
    "plt.legend(loc=\"lower right\")\n",
    "plt.show()\n",
    "\n",
    "#### Confusion Matrix on test data\n",
    "# print(logreg.__class__.__name__+\" confusion matrix \\n {}\".format(confusion_matrix(y_test, y_pred)))\n",
    "\n",
    "plt.figure(figsize=(4,4))\n",
    "sns.heatmap(confusion_matrix(y_test, y_pred), annot=True, fmt=\".3f\", linewidths=.5, square = True, cmap = 'Blues_r');\n",
    "plt.ylabel('Actual label');\n",
    "plt.xlabel('Predicted label');\n",
    "all_sample_title = 'Accuracy Score on validation: {0}'.format(round(accuracy_score(y_test, y_pred),4))\n",
    "plt.title(all_sample_title, size = 10);\n",
    "\n",
    "\n",
    "# print(\"Using a threshold of %.3f \" % thr[idx] + \"guarantees a sensitivity of %.3f \" % tpr[idx] +  \n",
    "#       \"and a specificity of %.3f\" % (1-fpr[idx]) + \n",
    "#       \", i.e. a false positive rate of %.2f%%.\" % (np.array(fpr[idx])*100))\n",
    "\n",
    "# #Optimal threshold\n",
    "# optimal_idx = np.argmax(tpr - fpr)\n",
    "# print(\"\\nOptimal Threshold:%.3f\" % thr[optimal_idx])"
   ]
  },
  {
   "cell_type": "markdown",
   "metadata": {},
   "source": [
    "Final output: Logistic regression with oversampled values is giving better sensitivity "
   ]
  },
  {
   "cell_type": "markdown",
   "metadata": {},
   "source": [
    "### Using Statsmodel"
   ]
  },
  {
   "cell_type": "code",
   "execution_count": null,
   "metadata": {},
   "outputs": [],
   "source": [
    "import statsmodels.api as sm\n",
    "\n",
    "# ols_model=sm.Logit(target,predictors)\n",
    "ols_model=sm.Logit(target,X_rescaled)\n",
    "# ols_model=sm.Logit(target,X_standardized)\n",
    "# ols_model=sm.Logit(os_data_y,os_data_X)"
   ]
  },
  {
   "cell_type": "code",
   "execution_count": null,
   "metadata": {},
   "outputs": [],
   "source": [
    "result=ols_model.fit(maxiter=15000)\n",
    "result.summary()"
   ]
  },
  {
   "cell_type": "markdown",
   "metadata": {},
   "source": [
    "###### There are two possibilities\n",
    "\n",
    "1) difficult optimization problem: Usually Logit converges very fast and the default number of iteration is set very low. Adding a larger maxiter keyword in the call to fit or refitting with the previous result as start_params helps in most cases.\n",
    "\n",
    "2) Since this is Logit, it is possible that there is complete separation, or quasi-complete separation. In this case some parameters might go off to infinity and the optimization stops at some convergence or stopping criterion. Logit detect the simple case of full separation and raises an exception, but there could be partial separation that is not detected. With perfect separation you get perfect predictability for some or all cases, which is useful for prediction but causes problems in estimating and identifying the parameters. More information is for example here https://stats.stackexchange.com/questions/11109/how-to-deal-with-perfect-separation-in-logistic-regression There are also several FAQ issues on the statsmodels github issues for corner cases and problems like this."
   ]
  },
  {
   "cell_type": "code",
   "execution_count": null,
   "metadata": {},
   "outputs": [],
   "source": [
    "y_pred = result.predict(X_test)"
   ]
  },
  {
   "cell_type": "code",
   "execution_count": null,
   "metadata": {},
   "outputs": [],
   "source": [
    "#Print the summary to csv\n",
    "f = open('out.csv','w')\n",
    "f.write(result.summary().as_csv())\n",
    "f.close()"
   ]
  },
  {
   "cell_type": "markdown",
   "metadata": {},
   "source": [
    "##### Imp Note:\n",
    "    \n",
    "The parameter estimates from the scikit-learn estimation are uniformly smaller in magnitude than the statsmodels counterpart. This is because the scikit-learn applies some kind of parameter regularization.\n",
    "\n",
    "There is no way to switch off regularization in scikit-learn, but you can make it ineffective by setting the tuning parameter C to a large number."
   ]
  },
  {
   "cell_type": "code",
   "execution_count": null,
   "metadata": {},
   "outputs": [],
   "source": []
  },
  {
   "cell_type": "code",
   "execution_count": null,
   "metadata": {},
   "outputs": [],
   "source": []
  },
  {
   "cell_type": "code",
   "execution_count": null,
   "metadata": {},
   "outputs": [],
   "source": []
  },
  {
   "cell_type": "code",
   "execution_count": null,
   "metadata": {},
   "outputs": [],
   "source": []
  },
  {
   "cell_type": "markdown",
   "metadata": {},
   "source": [
    "# Random Forest"
   ]
  },
  {
   "cell_type": "code",
   "execution_count": 19,
   "metadata": {},
   "outputs": [],
   "source": [
    "from sklearn.ensemble import RandomForestClassifier\n",
    "\n",
    "forest = RandomForestClassifier(random_state=999)"
   ]
  },
  {
   "cell_type": "code",
   "execution_count": 26,
   "metadata": {},
   "outputs": [
    {
     "name": "stdout",
     "output_type": "stream",
     "text": [
      "Best parameters using grid search: \n",
      " {'bootstrap': False, 'class_weight': None, 'max_depth': 18, 'max_features': 'log2', 'min_samples_split': 3}\n",
      "Time taken in grid search:  341.94\n"
     ]
    }
   ],
   "source": [
    "# GridSearchCV to fine tune the parameters\n",
    "np.random.seed(999)\n",
    "start = time.time()\n",
    "\n",
    "param_dist = {'max_depth':[6, 7, 8, 9, 10,11,12,14,16, 17, 18],\n",
    "              'bootstrap':[True, False],\n",
    "              'max_features':['auto', 'sqrt', 'log2', None],              \n",
    "              'min_samples_split': [2, 3, 4,5,6],\n",
    "              'class_weight' : [None, 'balanced_subsample', 'balanced']\n",
    "             }\n",
    "\n",
    "cv_rf = GridSearchCV(forest, cv=10, param_grid=param_dist, n_jobs=-1)\n",
    "# cv_rf.fit(os_data_X, os_data_y)\n",
    "cv_rf.fit(X_train, y_train)\n",
    "print('Best parameters using grid search: \\n',\n",
    "       cv_rf.best_params_)\n",
    "end = time.time()\n",
    "print('Time taken in grid search: {0: .2f}'.format(end-start))"
   ]
  },
  {
   "cell_type": "code",
   "execution_count": 30,
   "metadata": {},
   "outputs": [
    {
     "name": "stdout",
     "output_type": "stream",
     "text": [
      "Result on train data:\n",
      "\n",
      "RandomForestClassifier accuracy is 1.000\n",
      "RandomForestClassifier log_loss is 0.006\n",
      "RandomForestClassifier auc is 1.000\n"
     ]
    },
    {
     "data": {
      "image/png": "[encoded data removed]",
      "text/plain": [
       "<matplotlib.figure.Figure at 0x208ff31a9b0>"
      ]
     },
     "metadata": {
      "needs_background": "light"
     },
     "output_type": "display_data"
    },
    {
     "name": "stdout",
     "output_type": "stream",
     "text": [
      "Result on validation/test data:\n",
      "\n",
      "RandomForestClassifier accuracy is 0.978\n",
      "RandomForestClassifier log_loss is 0.343\n",
      "RandomForestClassifier auc is 0.716\n"
     ]
    },
    {
     "data": {
      "image/png": "[encoded data removed]",
      "text/plain": [
       "<matplotlib.figure.Figure at 0x208ff424438>"
      ]
     },
     "metadata": {
      "needs_background": "light"
     },
     "output_type": "display_data"
    },
    {
     "data": {
      "image/png": "[encoded data removed]",
      "text/plain": [
       "<matplotlib.figure.Figure at 0x208fec7c710>"
      ]
     },
     "metadata": {
      "needs_background": "light"
     },
     "output_type": "display_data"
    },
    {
     "data": {
      "image/png": "[encoded data removed]",
      "text/plain": [
       "<matplotlib.figure.Figure at 0x208ffa14b38>"
      ]
     },
     "metadata": {
      "needs_background": "light"
     },
     "output_type": "display_data"
    }
   ],
   "source": [
    "import random\n",
    "random.seed(999)\n",
    "\n",
    "from sklearn.model_selection import train_test_split, cross_val_score\n",
    "from sklearn.metrics import accuracy_score, classification_report, precision_score, recall_score \n",
    "from sklearn.metrics import confusion_matrix, precision_recall_curve, roc_curve, auc, log_loss\n",
    "\n",
    "# check classification scores of random forest\n",
    "modelRF = forest.set_params(bootstrap=False, max_features='log2', max_depth=18,\n",
    "                            n_estimators='warn', min_samples_split=3)\n",
    "modelRF.fit(X_train, y_train)\n",
    "\n",
    "y_pred_train = modelRF.predict(X_train)\n",
    "y_pred = modelRF.predict(X_test)\n",
    "\n",
    "y_pred_proba_train = modelRF.predict_proba(X_train)[:, 1]\n",
    "y_pred_proba = modelRF.predict_proba(X_test)[:, 1]\n",
    "\n",
    "\n",
    "print('Result on train data:\\n')\n",
    "[fpr, tpr, thr] = roc_curve(y_train, y_pred_proba_train)\n",
    "print(modelRF.__class__.__name__+\" accuracy is %2.3f\" % accuracy_score(y_train, y_pred_train))\n",
    "print(modelRF.__class__.__name__+\" log_loss is %2.3f\" % log_loss(y_train, y_pred_proba_train))\n",
    "print(modelRF.__class__.__name__+\" auc is %2.3f\" % auc(fpr, tpr))\n",
    "\n",
    "idx = np.min(np.where(tpr > 0.95)) # index of the first threshold for which the sensibility > 0.95\n",
    "\n",
    "plt.figure(figsize=(6,4))\n",
    "plt.plot(fpr, tpr, color='coral', label='ROC curve (area = %0.3f)' % auc(fpr, tpr))\n",
    "plt.plot([0, 1], [0, 1], 'k--')\n",
    "plt.plot([0,fpr[idx]], [tpr[idx],tpr[idx]], 'k--', color='blue')\n",
    "plt.plot([fpr[idx],fpr[idx]], [0,tpr[idx]], 'k--', color='blue')\n",
    "plt.xlim([0.0, 1.0])\n",
    "plt.ylim([0.0, 1.05])\n",
    "plt.xlabel('False Positive Rate (1 - specificity)', fontsize=14)\n",
    "plt.ylabel('True Positive Rate (recall)', fontsize=14)\n",
    "plt.title('Receiver operating characteristic (ROC) curve')\n",
    "plt.legend(loc=\"lower right\")\n",
    "plt.show()\n",
    "\n",
    "#### Confusion Matrix on train data\n",
    "# print(logreg.__class__.__name__+\" confusion matrix \\n {}\".format(confusion_matrix(y_train, y_pred_train)))\n",
    "\n",
    "plt.figure(figsize=(4,4))\n",
    "sns.heatmap(confusion_matrix(y_train, y_pred_train), annot=True, fmt=\".3f\", linewidths=.5, square = True, cmap = 'Blues_r');\n",
    "plt.ylabel('Actual label');\n",
    "plt.xlabel('Predicted label');\n",
    "all_sample_title = 'Accuracy Score on training set: {0}'.format(round(accuracy_score(y_train, y_pred_train),4))\n",
    "plt.title(all_sample_title, size = 10)\n",
    "\n",
    "\n",
    "#################### Test/Validation ######################\n",
    "\n",
    "print(\"Result on validation/test data:\\n\")\n",
    "[fpr1, tpr1, thr1] = roc_curve(y_test, y_pred_proba)\n",
    "print(modelRF.__class__.__name__+\" accuracy is %2.3f\" % accuracy_score(y_test, y_pred))\n",
    "print(modelRF.__class__.__name__+\" log_loss is %2.3f\" % log_loss(y_test, y_pred_proba))\n",
    "print(modelRF.__class__.__name__+\" auc is %2.3f\" % auc(fpr1, tpr1))\n",
    "\n",
    "idx1 = np.min(np.where(tpr1 > 0.95)) # index of the first threshold for which the sensibility > 0.95\n",
    "\n",
    "plt.figure(figsize=(6,4))\n",
    "plt.plot(fpr1, tpr1, color='coral', label='ROC curve (area = %0.3f)' % auc(fpr1, tpr1))\n",
    "plt.plot([0, 1], [0, 1], 'k--')\n",
    "plt.plot([0,fpr1[idx1]], [tpr1[idx1],tpr1[idx1]], 'k--', color='blue')\n",
    "plt.plot([fpr1[idx1],fpr1[idx1]], [0,tpr1[idx1]], 'k--', color='blue')\n",
    "plt.xlim([0.0, 1.0])\n",
    "plt.ylim([0.0, 1.05])\n",
    "plt.xlabel('False Positive Rate (1 - specificity)', fontsize=14)\n",
    "plt.ylabel('True Positive Rate (recall)', fontsize=14)\n",
    "plt.title('Receiver operating characteristic (ROC) curve')\n",
    "plt.legend(loc=\"lower right\")\n",
    "plt.show()\n",
    "\n",
    "#### Confusion Matrix on test data\n",
    "# print(logreg.__class__.__name__+\" confusion matrix \\n {}\".format(confusion_matrix(y_test, y_pred)))\n",
    "\n",
    "plt.figure(figsize=(4,4))\n",
    "sns.heatmap(confusion_matrix(y_test, y_pred), annot=True, fmt=\".3f\", linewidths=.5, square = True, cmap = 'Blues_r');\n",
    "plt.ylabel('Actual label');\n",
    "plt.xlabel('Predicted label');\n",
    "all_sample_title = 'Accuracy Score on validation: {0}'.format(round(accuracy_score(y_test, y_pred),4))\n",
    "plt.title(all_sample_title, size = 10);\n",
    "\n",
    "\n",
    "# print(\"Using a threshold of %.3f \" % thr[idx] + \"guarantees a sensitivity of %.3f \" % tpr[idx] +  \n",
    "#       \"and a specificity of %.3f\" % (1-fpr[idx]) + \n",
    "#       \", i.e. a false positive rate of %.2f%%.\" % (np.array(fpr[idx])*100))\n",
    "\n",
    "# #Optimal threshold\n",
    "# optimal_idx = np.argmax(tpr - fpr)\n",
    "# print(\"\\nOptimal Threshold:%.3f\" % thr[optimal_idx])"
   ]
  },
  {
   "cell_type": "code",
   "execution_count": null,
   "metadata": {},
   "outputs": [],
   "source": [
    "#Function to calculate the variable importance\n",
    "features = X_train.columns\n",
    "importances_rf = modelRF.feature_importances_\n",
    "indices_rf = np.argsort(importances_rf)[::-1]\n",
    "\n",
    "def variable_importance(importance, indices):\n",
    "    print(\"Feature ranking:\")\n",
    "    for f in range(len(features)):\n",
    "        i = f\n",
    "        print(\"%d. The feature '%s' has a Mean Decrease in Gini of %f\" % (f + 1,features[indices[i]],importance[indices[f]]))\n",
    "        \n",
    "variable_importance(importances_rf, indices_rf)"
   ]
  },
  {
   "cell_type": "code",
   "execution_count": null,
   "metadata": {},
   "outputs": [],
   "source": [
    "#Plot the variable importance\n",
    "features = X_train.columns\n",
    "importances_rf = modelRF.feature_importances_\n",
    "indices_rf = np.argsort(importances_rf)\n",
    "\n",
    "plt.rcParams['figure.figsize']=10,20\n",
    "plt.title('Feature Importances')\n",
    "plt.barh(range(len(indices_rf)), importances_rf[indices_rf], color='b', align='center')\n",
    "plt.yticks(range(len(indices_rf)), [features[i] for i in indices_rf])\n",
    "plt.xlabel('Relative Importance')\n",
    "plt.show()"
   ]
  },
  {
   "cell_type": "code",
   "execution_count": 31,
   "metadata": {},
   "outputs": [
    {
     "data": {
      "image/png": "[encoded data removed]",
      "text/plain": [
       "<matplotlib.figure.Figure at 0x208febe33c8>"
      ]
     },
     "metadata": {
      "needs_background": "light"
     },
     "output_type": "display_data"
    }
   ],
   "source": [
    "# Another way to plol top 15 features\n",
    "plt.rcParams['figure.figsize']=8,7\n",
    "feat_importances = pd.Series(modelRF.feature_importances_, index=X_train.columns)\n",
    "lar15 = feat_importances.nlargest(30)\n",
    "lar15.sort_values().plot(kind='barh');"
   ]
  },
  {
   "cell_type": "code",
   "execution_count": null,
   "metadata": {},
   "outputs": [],
   "source": []
  },
  {
   "cell_type": "markdown",
   "metadata": {},
   "source": [
    "##### Plotting the learning curve"
   ]
  },
  {
   "cell_type": "code",
   "execution_count": null,
   "metadata": {},
   "outputs": [],
   "source": [
    "from sklearn.model_selection import learning_curve\n",
    "\n",
    "# X=X_rescaled\n",
    "# y=target\n",
    "\n",
    "X=X_train\n",
    "y=y_train\n",
    "\n",
    "# Create CV training and test scores for various training set sizes\n",
    "train_sizes, train_scores, test_scores = learning_curve(forest, \n",
    "                                                        X, \n",
    "                                                        y,\n",
    "                                                        # Number of folds in cross-validation\n",
    "                                                        cv=10,\n",
    "                                                        # Evaluation metric\n",
    "                                                        scoring='accuracy',\n",
    "                                                        # Use all computer cores\n",
    "                                                        n_jobs=-1, \n",
    "                                                        # 50 different sizes of the training set\n",
    "                                                        train_sizes=np.linspace(0.01, 1.0, 50))\n",
    "\n",
    "# Create means and standard deviations of training set scores\n",
    "train_mean = np.mean(train_scores, axis=1)\n",
    "train_std = np.std(train_scores, axis=1)\n",
    "\n",
    "# Create means and standard deviations of test set scores\n",
    "test_mean = np.mean(test_scores, axis=1)\n",
    "test_std = np.std(test_scores, axis=1)\n",
    "\n",
    "# Draw lines\n",
    "plt.plot(train_sizes, train_mean, '--', color=\"#111111\",  label=\"Training score\")\n",
    "plt.plot(train_sizes, test_mean, color=\"#111111\", label=\"Cross-validation score\")\n",
    "\n",
    "# Draw bands\n",
    "plt.fill_between(train_sizes, train_mean - train_std, train_mean + train_std, color=\"#DDDDDD\")\n",
    "plt.fill_between(train_sizes, test_mean - test_std, test_mean + test_std, color=\"#DDDDDD\")\n",
    "\n",
    "# Create plot\n",
    "plt.title(\"Learning Curve\")\n",
    "plt.xlabel(\"Training Set Size\"), plt.ylabel(\"Accuracy Score\"), plt.legend(loc=\"best\")\n",
    "plt.tight_layout()\n",
    "plt.show()"
   ]
  },
  {
   "cell_type": "markdown",
   "metadata": {},
   "source": [
    "# XGBOOST"
   ]
  },
  {
   "cell_type": "code",
   "execution_count": null,
   "metadata": {},
   "outputs": [],
   "source": [
    "import xgboost as xgb"
   ]
  },
  {
   "cell_type": "code",
   "execution_count": null,
   "metadata": {},
   "outputs": [],
   "source": [
    "#GridSearchCV to fine tune the parameters\n",
    "start = time.time()\n",
    "\n",
    "param_dist1 = {#'max_depth':[8, 9, 10],\n",
    "               #'min_child_weight':[5, 6, 7, 8],\n",
    "               'max_depth':range(3,10,2),\n",
    "               'min_child_weight':range(1,6,2),\n",
    "               #'gamma':[i/10.0 for i in range(0,5)],\n",
    "               #'subsample':[i/10.0 for i in range(6,10)],\n",
    "               #'colsample_bytree':[i/10.0 for i in range(6,10)],\n",
    "               #'subsample':[i/100.0 for i in range(75,90,5)],\n",
    "               #'colsample_bytree':[i/100.0 for i in range(75,90,5)],\n",
    "               #'reg_alpha':[1e-5, 1e-2, 0.1, 1, 100],\n",
    "               #'reg_alpha':[0, 0.001, 0.005, 0.01, 0.05]\n",
    "                'learning_rate':[i/100.0 for i in range(1,20)]\n",
    "             }\n",
    "\n",
    "gridsearch1 = GridSearchCV(xgb.XGBClassifier(random_state=999), cv=10, param_grid=param_dist1, n_jobs=-1)\n",
    "gridsearch1.fit(X_train, y_train)\n",
    "print('Best parameters using grid search: \\n',\n",
    "       gridsearch1.best_params_, gridsearch1.best_score_)\n",
    "end = time.time()\n",
    "print('Time taken in grid search: {0: .2f}'.format(end-start))"
   ]
  },
  {
   "cell_type": "code",
   "execution_count": null,
   "metadata": {},
   "outputs": [],
   "source": [
    "params = {'seed':224, 'n_estimators': 3000, 'max_depth': 7, \n",
    "        'learning_rate': 0.01, 'subsample': .8, 'min_child_weight': 1}\n",
    "modelXGB = xgb.XGBClassifier(**params)"
   ]
  },
  {
   "cell_type": "code",
   "execution_count": null,
   "metadata": {},
   "outputs": [],
   "source": [
    "import random\n",
    "random.seed(999)\n",
    "\n",
    "# check classification scores of random forest\n",
    "modelXGB.fit(X_train, y_train)\n",
    "\n",
    "y_pred_train = modelXGB.predict(X_train)\n",
    "y_pred = modelXGB.predict(X_test)\n",
    "\n",
    "y_pred_proba_train = modelXGB.predict_proba(X_train)[:, 1]\n",
    "y_pred_proba = modelXGB.predict_proba(X_test)[:, 1]\n",
    "\n",
    "\n",
    "print('Result on train data:\\n')\n",
    "[fpr, tpr, thr] = roc_curve(y_train, y_pred_proba_train)\n",
    "print(modelXGB.__class__.__name__+\" accuracy is %2.3f\" % accuracy_score(y_train, y_pred_train))\n",
    "print(modelXGB.__class__.__name__+\" log_loss is %2.3f\" % log_loss(y_train, y_pred_proba_train))\n",
    "print(modelXGB.__class__.__name__+\" auc is %2.3f\" % auc(fpr, tpr))\n",
    "\n",
    "idx = np.min(np.where(tpr > 0.95)) # index of the first threshold for which the sensibility > 0.95\n",
    "\n",
    "plt.figure()\n",
    "plt.plot(fpr, tpr, color='coral', label='ROC curve (area = %0.3f)' % auc(fpr, tpr))\n",
    "plt.plot([0, 1], [0, 1], 'k--')\n",
    "plt.plot([0,fpr[idx]], [tpr[idx],tpr[idx]], 'k--', color='blue')\n",
    "plt.plot([fpr[idx],fpr[idx]], [0,tpr[idx]], 'k--', color='blue')\n",
    "plt.xlim([0.0, 1.0])\n",
    "plt.ylim([0.0, 1.05])\n",
    "plt.xlabel('False Positive Rate (1 - specificity)', fontsize=14)\n",
    "plt.ylabel('True Positive Rate (recall)', fontsize=14)\n",
    "plt.title('Receiver operating characteristic (ROC) curve')\n",
    "plt.legend(loc=\"lower right\")\n",
    "plt.show()\n",
    "\n",
    "#### Confusion Matrix on train data\n",
    "# print(logreg.__class__.__name__+\" confusion matrix \\n {}\".format(confusion_matrix(y_train, y_pred_train)))\n",
    "\n",
    "plt.figure(figsize=(4,4))\n",
    "sns.heatmap(confusion_matrix(y_train, y_pred_train), annot=True, fmt=\".3f\", linewidths=.5, square = True, cmap = 'Blues_r');\n",
    "plt.ylabel('Actual label');\n",
    "plt.xlabel('Predicted label');\n",
    "all_sample_title = 'Accuracy Score on training set: {0}'.format(round(accuracy_score(y_train, y_pred_train),4))\n",
    "plt.title(all_sample_title, size = 10)\n",
    "\n",
    "\n",
    "#################### Test/Validation ######################\n",
    "\n",
    "print(\"Result on validation/test data:\\n\")\n",
    "[fpr1, tpr1, thr1] = roc_curve(y_test, y_pred_proba)\n",
    "print(modelXGB.__class__.__name__+\" accuracy is %2.3f\" % accuracy_score(y_test, y_pred))\n",
    "print(modelXGB.__class__.__name__+\" log_loss is %2.3f\" % log_loss(y_test, y_pred_proba))\n",
    "print(modelXGB.__class__.__name__+\" auc is %2.3f\" % auc(fpr1, tpr1))\n",
    "\n",
    "idx1 = np.min(np.where(tpr1 > 0.95)) # index of the first threshold for which the sensibility > 0.95\n",
    "\n",
    "plt.figure()\n",
    "plt.plot(fpr1, tpr1, color='coral', label='ROC curve (area = %0.3f)' % auc(fpr1, tpr1))\n",
    "plt.plot([0, 1], [0, 1], 'k--')\n",
    "plt.plot([0,fpr1[idx1]], [tpr1[idx1],tpr1[idx1]], 'k--', color='blue')\n",
    "plt.plot([fpr1[idx1],fpr1[idx1]], [0,tpr1[idx1]], 'k--', color='blue')\n",
    "plt.xlim([0.0, 1.0])\n",
    "plt.ylim([0.0, 1.05])\n",
    "plt.xlabel('False Positive Rate (1 - specificity)', fontsize=14)\n",
    "plt.ylabel('True Positive Rate (recall)', fontsize=14)\n",
    "plt.title('Receiver operating characteristic (ROC) curve')\n",
    "plt.legend(loc=\"lower right\")\n",
    "plt.show()\n",
    "\n",
    "#### Confusion Matrix on test data\n",
    "# print(logreg.__class__.__name__+\" confusion matrix \\n {}\".format(confusion_matrix(y_test, y_pred)))\n",
    "\n",
    "plt.figure(figsize=(4,4))\n",
    "sns.heatmap(confusion_matrix(y_test, y_pred), annot=True, fmt=\".3f\", linewidths=.5, square = True, cmap = 'Blues_r');\n",
    "plt.ylabel('Actual label');\n",
    "plt.xlabel('Predicted label');\n",
    "all_sample_title = 'Accuracy Score on validation: {0}'.format(round(accuracy_score(y_test, y_pred),4))\n",
    "plt.title(all_sample_title, size = 10);\n",
    "\n",
    "\n",
    "# print(\"Using a threshold of %.3f \" % thr[idx] + \"guarantees a sensitivity of %.3f \" % tpr[idx] +  \n",
    "#       \"and a specificity of %.3f\" % (1-fpr[idx]) + \n",
    "#       \", i.e. a false positive rate of %.2f%%.\" % (np.array(fpr[idx])*100))\n",
    "\n",
    "# #Optimal threshold\n",
    "# optimal_idx = np.argmax(tpr - fpr)\n",
    "# print(\"\\nOptimal Threshold:%.3f\" % thr[optimal_idx])"
   ]
  }
 ],
 "metadata": {
  "kernelspec": {
   "display_name": "Python 3",
   "language": "python",
   "name": "python3"
  },
  "language_info": {
   "codemirror_mode": {
    "name": "ipython",
    "version": 3
   },
   "file_extension": ".py",
   "mimetype": "text/x-python",
   "name": "python",
   "nbconvert_exporter": "python",
   "pygments_lexer": "ipython3",
   "version": "3.7.1"
  }
 },
 "nbformat": 4,
 "nbformat_minor": 2
}
